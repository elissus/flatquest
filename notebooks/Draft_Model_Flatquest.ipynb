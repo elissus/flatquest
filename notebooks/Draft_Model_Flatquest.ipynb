{
  "cells": [
    {
      "cell_type": "markdown",
      "metadata": {
        "id": "1CiTUgRYgzhe"
      },
      "source": [
        "## Step 1: Load data & packages"
      ]
    },
    {
      "cell_type": "code",
      "execution_count": 1,
      "metadata": {
        "id": "pKpmsNi0gJXG"
      },
      "outputs": [],
      "source": [
        "import pandas as pd\n",
        "import numpy as np\n",
        "from sklearn.model_selection import train_test_split\n",
        "from sklearn.preprocessing import StandardScaler\n",
        "from sklearn.ensemble import RandomForestClassifier\n",
        "from sklearn.metrics import classification_report, confusion_matrix"
      ]
    },
    {
      "cell_type": "code",
      "execution_count": 3,
      "metadata": {},
      "outputs": [
        {
          "name": "stdout",
          "output_type": "stream",
          "text": [
            "/Users/sabasartipi/code/elissus/flatquest/notebooks\n"
          ]
        }
      ],
      "source": [
        "!pwd"
      ]
    },
    {
      "cell_type": "code",
      "execution_count": 7,
      "metadata": {
        "id": "FXk0tpytBdDj"
      },
      "outputs": [],
      "source": [
        "df_berlin = pd.read_csv(\"/Users/sabasartipi/code/elissus/flatquest/package_folder/berlin_cleaned.csv\")"
      ]
    },
    {
      "cell_type": "code",
      "execution_count": 8,
      "metadata": {
        "colab": {
          "base_uri": "https://localhost:8080/",
          "height": 440
        },
        "id": "-3CJ9Mz-Bitm",
        "outputId": "c5896d4e-3338-4369-dc25-45840c9c793f"
      },
      "outputs": [
        {
          "data": {
            "text/html": [
              "<div>\n",
              "<style scoped>\n",
              "    .dataframe tbody tr th:only-of-type {\n",
              "        vertical-align: middle;\n",
              "    }\n",
              "\n",
              "    .dataframe tbody tr th {\n",
              "        vertical-align: top;\n",
              "    }\n",
              "\n",
              "    .dataframe thead th {\n",
              "        text-align: right;\n",
              "    }\n",
              "</style>\n",
              "<table border=\"1\" class=\"dataframe\">\n",
              "  <thead>\n",
              "    <tr style=\"text-align: right;\">\n",
              "      <th></th>\n",
              "      <th>Unnamed: 0</th>\n",
              "      <th>serviceCharge</th>\n",
              "      <th>heatingType</th>\n",
              "      <th>newlyConst</th>\n",
              "      <th>balcony</th>\n",
              "      <th>telekomUploadSpeed</th>\n",
              "      <th>totalRent</th>\n",
              "      <th>yearConstructed</th>\n",
              "      <th>scoutId</th>\n",
              "      <th>hasKitchen</th>\n",
              "      <th>...</th>\n",
              "      <th>lift</th>\n",
              "      <th>typeOfFlat</th>\n",
              "      <th>noRooms</th>\n",
              "      <th>floorNo</th>\n",
              "      <th>numberOfFloors</th>\n",
              "      <th>garden</th>\n",
              "      <th>regio3</th>\n",
              "      <th>heatingCosts</th>\n",
              "      <th>ParkSpaces</th>\n",
              "      <th>fullAddress</th>\n",
              "    </tr>\n",
              "  </thead>\n",
              "  <tbody>\n",
              "    <tr>\n",
              "      <th>0</th>\n",
              "      <td>0</td>\n",
              "      <td>320.00</td>\n",
              "      <td>central_heating</td>\n",
              "      <td>0</td>\n",
              "      <td>1</td>\n",
              "      <td>32.1</td>\n",
              "      <td>1140.00</td>\n",
              "      <td>1980.0</td>\n",
              "      <td>115671495</td>\n",
              "      <td>1</td>\n",
              "      <td>...</td>\n",
              "      <td>1</td>\n",
              "      <td>ground_floor</td>\n",
              "      <td>3.0</td>\n",
              "      <td>0.0</td>\n",
              "      <td>3.0</td>\n",
              "      <td>0</td>\n",
              "      <td>Staaken_Spandau</td>\n",
              "      <td>105.4</td>\n",
              "      <td>1</td>\n",
              "      <td>Metropolitan Park 63, 13591 Berlin, Germany</td>\n",
              "    </tr>\n",
              "    <tr>\n",
              "      <th>1</th>\n",
              "      <td>1</td>\n",
              "      <td>79.00</td>\n",
              "      <td>central_heating</td>\n",
              "      <td>0</td>\n",
              "      <td>0</td>\n",
              "      <td>40.0</td>\n",
              "      <td>955.00</td>\n",
              "      <td>1918.0</td>\n",
              "      <td>113359456</td>\n",
              "      <td>0</td>\n",
              "      <td>...</td>\n",
              "      <td>0</td>\n",
              "      <td>ground_floor</td>\n",
              "      <td>2.0</td>\n",
              "      <td>0.0</td>\n",
              "      <td>3.0</td>\n",
              "      <td>0</td>\n",
              "      <td>Weißensee_Weißensee</td>\n",
              "      <td>68.0</td>\n",
              "      <td>0</td>\n",
              "      <td>Börnestraße 11, 13086 Berlin, Germany</td>\n",
              "    </tr>\n",
              "    <tr>\n",
              "      <th>2</th>\n",
              "      <td>2</td>\n",
              "      <td>150.00</td>\n",
              "      <td>floor_heating</td>\n",
              "      <td>1</td>\n",
              "      <td>1</td>\n",
              "      <td>40.0</td>\n",
              "      <td>1300.00</td>\n",
              "      <td>2019.0</td>\n",
              "      <td>113704695</td>\n",
              "      <td>1</td>\n",
              "      <td>...</td>\n",
              "      <td>1</td>\n",
              "      <td>apartment</td>\n",
              "      <td>2.0</td>\n",
              "      <td>3.0</td>\n",
              "      <td>5.0</td>\n",
              "      <td>0</td>\n",
              "      <td>Mitte_Mitte</td>\n",
              "      <td>70.3</td>\n",
              "      <td>1</td>\n",
              "      <td>Stallschreiberstraße 27, 10179 Berlin, Germany</td>\n",
              "    </tr>\n",
              "    <tr>\n",
              "      <th>3</th>\n",
              "      <td>3</td>\n",
              "      <td>228.78</td>\n",
              "      <td>floor_heating</td>\n",
              "      <td>0</td>\n",
              "      <td>1</td>\n",
              "      <td>32.1</td>\n",
              "      <td>1428.78</td>\n",
              "      <td>2017.0</td>\n",
              "      <td>107589685</td>\n",
              "      <td>1</td>\n",
              "      <td>...</td>\n",
              "      <td>1</td>\n",
              "      <td>apartment</td>\n",
              "      <td>2.5</td>\n",
              "      <td>6.0</td>\n",
              "      <td>7.0</td>\n",
              "      <td>0</td>\n",
              "      <td>Kreuzberg_Kreuzberg</td>\n",
              "      <td>87.8</td>\n",
              "      <td>0</td>\n",
              "      <td>Hallesche Straße 5a, 10963 Berlin, Germany</td>\n",
              "    </tr>\n",
              "    <tr>\n",
              "      <th>4</th>\n",
              "      <td>4</td>\n",
              "      <td>147.08</td>\n",
              "      <td>district_heating</td>\n",
              "      <td>1</td>\n",
              "      <td>1</td>\n",
              "      <td>40.0</td>\n",
              "      <td>1559.05</td>\n",
              "      <td>2019.0</td>\n",
              "      <td>114773727</td>\n",
              "      <td>1</td>\n",
              "      <td>...</td>\n",
              "      <td>1</td>\n",
              "      <td>ground_floor</td>\n",
              "      <td>2.0</td>\n",
              "      <td>0.0</td>\n",
              "      <td>6.0</td>\n",
              "      <td>0</td>\n",
              "      <td>Tiergarten_Tiergarten</td>\n",
              "      <td>73.5</td>\n",
              "      <td>0</td>\n",
              "      <td>Heidestraße 19, 10557 Berlin, Germany</td>\n",
              "    </tr>\n",
              "  </tbody>\n",
              "</table>\n",
              "<p>5 rows × 25 columns</p>\n",
              "</div>"
            ],
            "text/plain": [
              "   Unnamed: 0  serviceCharge       heatingType  newlyConst  balcony  \\\n",
              "0           0         320.00   central_heating           0        1   \n",
              "1           1          79.00   central_heating           0        0   \n",
              "2           2         150.00     floor_heating           1        1   \n",
              "3           3         228.78     floor_heating           0        1   \n",
              "4           4         147.08  district_heating           1        1   \n",
              "\n",
              "   telekomUploadSpeed  totalRent  yearConstructed    scoutId  hasKitchen  ...  \\\n",
              "0                32.1    1140.00           1980.0  115671495           1  ...   \n",
              "1                40.0     955.00           1918.0  113359456           0  ...   \n",
              "2                40.0    1300.00           2019.0  113704695           1  ...   \n",
              "3                32.1    1428.78           2017.0  107589685           1  ...   \n",
              "4                40.0    1559.05           2019.0  114773727           1  ...   \n",
              "\n",
              "   lift    typeOfFlat  noRooms floorNo  numberOfFloors  garden  \\\n",
              "0     1  ground_floor      3.0     0.0             3.0       0   \n",
              "1     0  ground_floor      2.0     0.0             3.0       0   \n",
              "2     1     apartment      2.0     3.0             5.0       0   \n",
              "3     1     apartment      2.5     6.0             7.0       0   \n",
              "4     1  ground_floor      2.0     0.0             6.0       0   \n",
              "\n",
              "                  regio3  heatingCosts  ParkSpaces  \\\n",
              "0        Staaken_Spandau         105.4           1   \n",
              "1    Weißensee_Weißensee          68.0           0   \n",
              "2            Mitte_Mitte          70.3           1   \n",
              "3    Kreuzberg_Kreuzberg          87.8           0   \n",
              "4  Tiergarten_Tiergarten          73.5           0   \n",
              "\n",
              "                                      fullAddress  \n",
              "0     Metropolitan Park 63, 13591 Berlin, Germany  \n",
              "1           Börnestraße 11, 13086 Berlin, Germany  \n",
              "2  Stallschreiberstraße 27, 10179 Berlin, Germany  \n",
              "3      Hallesche Straße 5a, 10963 Berlin, Germany  \n",
              "4           Heidestraße 19, 10557 Berlin, Germany  \n",
              "\n",
              "[5 rows x 25 columns]"
            ]
          },
          "execution_count": 8,
          "metadata": {},
          "output_type": "execute_result"
        }
      ],
      "source": [
        "df_berlin.head()"
      ]
    },
    {
      "cell_type": "code",
      "execution_count": null,
      "metadata": {
        "colab": {
          "base_uri": "https://localhost:8080/"
        },
        "id": "ojmwZ9kljys9",
        "outputId": "038a99b7-3c92-48b3-83e7-a9a56863370f"
      },
      "outputs": [
        {
          "data": {
            "text/plain": [
              "(8879, 26)"
            ]
          },
          "execution_count": 21,
          "metadata": {},
          "output_type": "execute_result"
        }
      ],
      "source": [
        "df_berlin.shape"
      ]
    },
    {
      "cell_type": "code",
      "execution_count": null,
      "metadata": {
        "colab": {
          "base_uri": "https://localhost:8080/",
          "height": 858
        },
        "id": "jUpGnBaNFCyz",
        "outputId": "65c24971-ece6-4992-ef50-940667fdb691"
      },
      "outputs": [
        {
          "data": {
            "text/html": [
              "<div>\n",
              "<style scoped>\n",
              "    .dataframe tbody tr th:only-of-type {\n",
              "        vertical-align: middle;\n",
              "    }\n",
              "\n",
              "    .dataframe tbody tr th {\n",
              "        vertical-align: top;\n",
              "    }\n",
              "\n",
              "    .dataframe thead th {\n",
              "        text-align: right;\n",
              "    }\n",
              "</style>\n",
              "<table border=\"1\" class=\"dataframe\">\n",
              "  <thead>\n",
              "    <tr style=\"text-align: right;\">\n",
              "      <th></th>\n",
              "      <th>0</th>\n",
              "    </tr>\n",
              "  </thead>\n",
              "  <tbody>\n",
              "    <tr>\n",
              "      <th>Unnamed: 0</th>\n",
              "      <td>0</td>\n",
              "    </tr>\n",
              "    <tr>\n",
              "      <th>serviceCharge</th>\n",
              "      <td>0</td>\n",
              "    </tr>\n",
              "    <tr>\n",
              "      <th>heatingType</th>\n",
              "      <td>0</td>\n",
              "    </tr>\n",
              "    <tr>\n",
              "      <th>newlyConst</th>\n",
              "      <td>0</td>\n",
              "    </tr>\n",
              "    <tr>\n",
              "      <th>balcony</th>\n",
              "      <td>0</td>\n",
              "    </tr>\n",
              "    <tr>\n",
              "      <th>telekomUploadSpeed</th>\n",
              "      <td>0</td>\n",
              "    </tr>\n",
              "    <tr>\n",
              "      <th>totalRent</th>\n",
              "      <td>0</td>\n",
              "    </tr>\n",
              "    <tr>\n",
              "      <th>yearConstructed</th>\n",
              "      <td>0</td>\n",
              "    </tr>\n",
              "    <tr>\n",
              "      <th>scoutId</th>\n",
              "      <td>0</td>\n",
              "    </tr>\n",
              "    <tr>\n",
              "      <th>hasKitchen</th>\n",
              "      <td>0</td>\n",
              "    </tr>\n",
              "    <tr>\n",
              "      <th>cellar</th>\n",
              "      <td>0</td>\n",
              "    </tr>\n",
              "    <tr>\n",
              "      <th>baseRent</th>\n",
              "      <td>0</td>\n",
              "    </tr>\n",
              "    <tr>\n",
              "      <th>livingSpace</th>\n",
              "      <td>0</td>\n",
              "    </tr>\n",
              "    <tr>\n",
              "      <th>condition</th>\n",
              "      <td>0</td>\n",
              "    </tr>\n",
              "    <tr>\n",
              "      <th>petsAllowed</th>\n",
              "      <td>0</td>\n",
              "    </tr>\n",
              "    <tr>\n",
              "      <th>lift</th>\n",
              "      <td>0</td>\n",
              "    </tr>\n",
              "    <tr>\n",
              "      <th>typeOfFlat</th>\n",
              "      <td>0</td>\n",
              "    </tr>\n",
              "    <tr>\n",
              "      <th>noRooms</th>\n",
              "      <td>0</td>\n",
              "    </tr>\n",
              "    <tr>\n",
              "      <th>floorNo</th>\n",
              "      <td>0</td>\n",
              "    </tr>\n",
              "    <tr>\n",
              "      <th>numberOfFloors</th>\n",
              "      <td>0</td>\n",
              "    </tr>\n",
              "    <tr>\n",
              "      <th>garden</th>\n",
              "      <td>0</td>\n",
              "    </tr>\n",
              "    <tr>\n",
              "      <th>regio3</th>\n",
              "      <td>0</td>\n",
              "    </tr>\n",
              "    <tr>\n",
              "      <th>heatingCosts</th>\n",
              "      <td>0</td>\n",
              "    </tr>\n",
              "    <tr>\n",
              "      <th>ParkSpaces</th>\n",
              "      <td>0</td>\n",
              "    </tr>\n",
              "    <tr>\n",
              "      <th>fullAddress</th>\n",
              "      <td>0</td>\n",
              "    </tr>\n",
              "  </tbody>\n",
              "</table>\n",
              "</div><br><label><b>dtype:</b> int64</label>"
            ],
            "text/plain": [
              "Unnamed: 0            0\n",
              "serviceCharge         0\n",
              "heatingType           0\n",
              "newlyConst            0\n",
              "balcony               0\n",
              "telekomUploadSpeed    0\n",
              "totalRent             0\n",
              "yearConstructed       0\n",
              "scoutId               0\n",
              "hasKitchen            0\n",
              "cellar                0\n",
              "baseRent              0\n",
              "livingSpace           0\n",
              "condition             0\n",
              "petsAllowed           0\n",
              "lift                  0\n",
              "typeOfFlat            0\n",
              "noRooms               0\n",
              "floorNo               0\n",
              "numberOfFloors        0\n",
              "garden                0\n",
              "regio3                0\n",
              "heatingCosts          0\n",
              "ParkSpaces            0\n",
              "fullAddress           0\n",
              "dtype: int64"
            ]
          },
          "execution_count": 5,
          "metadata": {},
          "output_type": "execute_result"
        }
      ],
      "source": [
        "df_berlin.isnull().sum()"
      ]
    },
    {
      "cell_type": "code",
      "execution_count": 18,
      "metadata": {
        "colab": {
          "base_uri": "https://localhost:8080/",
          "height": 453
        },
        "id": "KFGDGEyMhuzM",
        "outputId": "8b3f3147-5ce5-4e28-8923-8076a036bfad"
      },
      "outputs": [
        {
          "data": {
            "text/plain": [
              "79"
            ]
          },
          "execution_count": 18,
          "metadata": {},
          "output_type": "execute_result"
        }
      ],
      "source": [
        "df_berlin.regio3"
      ]
    },
    {
      "cell_type": "markdown",
      "metadata": {
        "id": "3NtHfNdTgwn5"
      },
      "source": [
        "## Step 2: Feature Engineering"
      ]
    },
    {
      "cell_type": "code",
      "execution_count": 9,
      "metadata": {
        "colab": {
          "base_uri": "https://localhost:8080/",
          "height": 176
        },
        "id": "V4MJJheIgv_A",
        "outputId": "97d3edfa-bae4-4214-a132-29c8a384a984"
      },
      "outputs": [
        {
          "data": {
            "text/plain": [
              "price_category\n",
              "below_average    5450\n",
              "above_average    3429\n",
              "Name: count, dtype: int64"
            ]
          },
          "execution_count": 9,
          "metadata": {},
          "output_type": "execute_result"
        }
      ],
      "source": [
        "average_price = df_berlin['baseRent'].mean()\n",
        "\n",
        "df_berlin['price_category'] = np.where(df_berlin['baseRent'] > average_price, 'above_average',\n",
        "                                np.where(df_berlin['baseRent'] < average_price, 'below_average', 'at_average'))\n",
        "\n",
        "df_berlin['price_category'].value_counts()\n"
      ]
    },
    {
      "cell_type": "markdown",
      "metadata": {
        "id": "Swbc9QJDhOnu"
      },
      "source": [
        "## Step 3: Data Preprocessing"
      ]
    },
    {
      "cell_type": "code",
      "execution_count": 12,
      "metadata": {
        "id": "fo619CRthN97"
      },
      "outputs": [],
      "source": [
        "# Features: You can include more features if you want\n",
        "features = ['livingSpace', 'noRooms', 'balcony', 'yearConstructed', 'regio3']\n",
        "X = df_berlin[features]\n",
        "\n",
        "# Target: price_category added above\n",
        "y = df_berlin['price_category']\n",
        "\n",
        "# Encode categorical variables if any\n",
        "X = pd.get_dummies(X, drop_first=True)\n",
        "\n",
        "# Split training and testing data\n",
        "X_train, X_test, y_train, y_test = train_test_split(X, y, test_size=0.2, random_state=42)\n",
        "\n",
        "# Standardize feature variables\n",
        "scaler = StandardScaler()\n",
        "X_train = scaler.fit_transform(X_train)\n",
        "X_test = scaler.transform(X_test)\n"
      ]
    },
    {
      "cell_type": "code",
      "execution_count": null,
      "metadata": {
        "colab": {
          "base_uri": "https://localhost:8080/"
        },
        "id": "_NYqY1mtiIO5",
        "outputId": "3b669f95-4bcf-4136-bd36-3eca675ec5af"
      },
      "outputs": [
        {
          "data": {
            "text/plain": [
              "array([[-0.94996146, -0.96363108, -1.66438272,  0.84923644],\n",
              "       [ 0.42008383, -0.32291221,  0.60082335,  0.78544087],\n",
              "       [ 1.10871251, -0.32291221,  0.60082335,  0.97682758],\n",
              "       ...,\n",
              "       [-0.75647894, -0.32291221, -1.66438272, -1.21348702],\n",
              "       [-0.65526121, -0.32291221,  0.60082335,  1.08315353],\n",
              "       [-0.59731593, -0.64327165,  0.60082335, -0.85197879]])"
            ]
          },
          "execution_count": 17,
          "metadata": {},
          "output_type": "execute_result"
        }
      ],
      "source": [
        "X_train"
      ]
    },
    {
      "cell_type": "code",
      "execution_count": null,
      "metadata": {
        "colab": {
          "base_uri": "https://localhost:8080/"
        },
        "id": "5nW89X2SiMWH",
        "outputId": "c8393e75-d0b0-4d83-f07b-4f6a286b617d"
      },
      "outputs": [
        {
          "data": {
            "text/plain": [
              "array([[ 0.08907452,  0.31780666,  0.60082335,  1.08315353],\n",
              "       [ 0.83365895,  0.95852554,  0.60082335,  0.42393263],\n",
              "       [ 0.00626002,  0.31780666,  0.60082335,  0.63658454],\n",
              "       ...,\n",
              "       [ 0.61132812,  0.95852554,  0.60082335,  1.06188834],\n",
              "       [ 0.46211281,  0.31780666,  0.60082335,  1.06188834],\n",
              "       [-0.76990831, -0.32291221, -1.66438272, -1.4899345 ]])"
            ]
          },
          "execution_count": 18,
          "metadata": {},
          "output_type": "execute_result"
        }
      ],
      "source": [
        "X_test"
      ]
    },
    {
      "cell_type": "markdown",
      "metadata": {
        "id": "JMUqkGMFiQNZ"
      },
      "source": [
        "## Step 4: Model Training"
      ]
    },
    {
      "cell_type": "code",
      "execution_count": 13,
      "metadata": {
        "id": "_RPqDuAxiOBF"
      },
      "outputs": [],
      "source": [
        "# Initiate Random Forest classifier\n",
        "model = RandomForestClassifier(random_state=42)\n",
        "\n",
        "# Train the model\n",
        "model.fit(X_train, y_train)\n",
        "\n",
        "# Predict on the test only\n",
        "y_pred = model.predict(X_test)\n"
      ]
    },
    {
      "cell_type": "markdown",
      "metadata": {
        "id": "CrxjWFA2im0d"
      },
      "source": [
        "## Step 5: Model Evaluation"
      ]
    },
    {
      "cell_type": "code",
      "execution_count": 14,
      "metadata": {
        "colab": {
          "base_uri": "https://localhost:8080/"
        },
        "id": "evan9h7_immf",
        "outputId": "9f2ed268-d737-404e-899e-1a03fa6b6dee"
      },
      "outputs": [
        {
          "name": "stdout",
          "output_type": "stream",
          "text": [
            "Confusion Matrix:\n",
            "[[545 133]\n",
            " [129 969]]\n",
            "\n",
            "Classification Report:\n",
            "               precision    recall  f1-score   support\n",
            "\n",
            "above_average       0.81      0.80      0.81       678\n",
            "below_average       0.88      0.88      0.88      1098\n",
            "\n",
            "     accuracy                           0.85      1776\n",
            "    macro avg       0.84      0.84      0.84      1776\n",
            " weighted avg       0.85      0.85      0.85      1776\n",
            "\n"
          ]
        }
      ],
      "source": [
        "# Confusion matrix\n",
        "print(\"Confusion Matrix:\")\n",
        "print(confusion_matrix(y_test, y_pred))\n",
        "\n",
        "# Classification report\n",
        "print(\"\\nClassification Report:\")\n",
        "print(classification_report(y_test, y_pred))\n"
      ]
    },
    {
      "cell_type": "markdown",
      "metadata": {
        "id": "QwcQXX8Pi81l"
      },
      "source": []
    },
    {
      "cell_type": "code",
      "execution_count": 15,
      "metadata": {
        "colab": {
          "base_uri": "https://localhost:8080/"
        },
        "id": "Ritf3s3KkBJn",
        "outputId": "f75b8397-8949-405f-e9b9-386cf1684a43"
      },
      "outputs": [
        {
          "name": "stderr",
          "output_type": "stream",
          "text": [
            "/Users/sabasartipi/.pyenv/versions/3.10.6/envs/flatquest/lib/python3.10/site-packages/sklearn/base.py:486: UserWarning: X has feature names, but RandomForestClassifier was fitted without feature names\n",
            "  warnings.warn(\n"
          ]
        }
      ],
      "source": [
        "# Predict on the entire dataset (? check this)\n",
        "y_all_pred = model.predict(X)\n",
        "\n",
        "# Add the predictions to the original dataframes\n",
        "df_berlin['price_category_pred'] = y_all_pred\n"
      ]
    },
    {
      "cell_type": "markdown",
      "metadata": {
        "id": "Gkj4w42LlH_W"
      },
      "source": [
        "## Step 6: Save to a new df"
      ]
    },
    {
      "cell_type": "code",
      "execution_count": 16,
      "metadata": {
        "id": "RXKJRX_KkCUU"
      },
      "outputs": [],
      "source": [
        "df_berlin.to_csv('updated_apartment_data_with_predictions.csv', index=False)"
      ]
    },
    {
      "cell_type": "code",
      "execution_count": null,
      "metadata": {
        "id": "jrJNBRxukQ7V"
      },
      "outputs": [],
      "source": [
        "df_predictions = pd.read_csv(\"updated_apartment_data_with_predictions.csv\")"
      ]
    },
    {
      "cell_type": "code",
      "execution_count": null,
      "metadata": {
        "colab": {
          "base_uri": "https://localhost:8080/"
        },
        "id": "5ipRVLIwkbkG",
        "outputId": "3bb00472-41a4-4bd4-af8d-11352feca315"
      },
      "outputs": [
        {
          "data": {
            "text/plain": [
              "(8879, 27)"
            ]
          },
          "execution_count": 27,
          "metadata": {},
          "output_type": "execute_result"
        }
      ],
      "source": [
        "df_predictions.shape"
      ]
    },
    {
      "cell_type": "code",
      "execution_count": null,
      "metadata": {
        "colab": {
          "base_uri": "https://localhost:8080/",
          "height": 440
        },
        "id": "3YX1cvTzkdKT",
        "outputId": "37f4d1f7-e6cb-4a13-cdc1-7697a1d2a92e"
      },
      "outputs": [
        {
          "data": {
            "application/vnd.google.colaboratory.intrinsic+json": {
              "type": "dataframe",
              "variable_name": "df_predictions"
            },
            "text/html": [
              "\n",
              "  <div id=\"df-da321f7b-9fc7-427f-bcd9-c737b5daec4d\" class=\"colab-df-container\">\n",
              "    <div>\n",
              "<style scoped>\n",
              "    .dataframe tbody tr th:only-of-type {\n",
              "        vertical-align: middle;\n",
              "    }\n",
              "\n",
              "    .dataframe tbody tr th {\n",
              "        vertical-align: top;\n",
              "    }\n",
              "\n",
              "    .dataframe thead th {\n",
              "        text-align: right;\n",
              "    }\n",
              "</style>\n",
              "<table border=\"1\" class=\"dataframe\">\n",
              "  <thead>\n",
              "    <tr style=\"text-align: right;\">\n",
              "      <th></th>\n",
              "      <th>Unnamed: 0</th>\n",
              "      <th>serviceCharge</th>\n",
              "      <th>heatingType</th>\n",
              "      <th>newlyConst</th>\n",
              "      <th>balcony</th>\n",
              "      <th>telekomUploadSpeed</th>\n",
              "      <th>totalRent</th>\n",
              "      <th>yearConstructed</th>\n",
              "      <th>scoutId</th>\n",
              "      <th>hasKitchen</th>\n",
              "      <th>...</th>\n",
              "      <th>noRooms</th>\n",
              "      <th>floorNo</th>\n",
              "      <th>numberOfFloors</th>\n",
              "      <th>garden</th>\n",
              "      <th>regio3</th>\n",
              "      <th>heatingCosts</th>\n",
              "      <th>ParkSpaces</th>\n",
              "      <th>fullAddress</th>\n",
              "      <th>price_category</th>\n",
              "      <th>price_category_pred</th>\n",
              "    </tr>\n",
              "  </thead>\n",
              "  <tbody>\n",
              "    <tr>\n",
              "      <th>0</th>\n",
              "      <td>0</td>\n",
              "      <td>320.00</td>\n",
              "      <td>central_heating</td>\n",
              "      <td>0</td>\n",
              "      <td>1</td>\n",
              "      <td>32.1</td>\n",
              "      <td>1140.00</td>\n",
              "      <td>1980.0</td>\n",
              "      <td>115671495</td>\n",
              "      <td>1</td>\n",
              "      <td>...</td>\n",
              "      <td>3.0</td>\n",
              "      <td>0.0</td>\n",
              "      <td>3.0</td>\n",
              "      <td>0</td>\n",
              "      <td>Staaken_Spandau</td>\n",
              "      <td>105.4</td>\n",
              "      <td>1</td>\n",
              "      <td>Metropolitan Park 63, 13591 Berlin, Germany</td>\n",
              "      <td>below_average</td>\n",
              "      <td>above_average</td>\n",
              "    </tr>\n",
              "    <tr>\n",
              "      <th>1</th>\n",
              "      <td>1</td>\n",
              "      <td>79.00</td>\n",
              "      <td>central_heating</td>\n",
              "      <td>0</td>\n",
              "      <td>0</td>\n",
              "      <td>40.0</td>\n",
              "      <td>955.00</td>\n",
              "      <td>1918.0</td>\n",
              "      <td>113359456</td>\n",
              "      <td>0</td>\n",
              "      <td>...</td>\n",
              "      <td>2.0</td>\n",
              "      <td>0.0</td>\n",
              "      <td>3.0</td>\n",
              "      <td>0</td>\n",
              "      <td>Weißensee_Weißensee</td>\n",
              "      <td>68.0</td>\n",
              "      <td>0</td>\n",
              "      <td>Börnestraße 11, 13086 Berlin, Germany</td>\n",
              "      <td>below_average</td>\n",
              "      <td>above_average</td>\n",
              "    </tr>\n",
              "    <tr>\n",
              "      <th>2</th>\n",
              "      <td>2</td>\n",
              "      <td>150.00</td>\n",
              "      <td>floor_heating</td>\n",
              "      <td>1</td>\n",
              "      <td>1</td>\n",
              "      <td>40.0</td>\n",
              "      <td>1300.00</td>\n",
              "      <td>2019.0</td>\n",
              "      <td>113704695</td>\n",
              "      <td>1</td>\n",
              "      <td>...</td>\n",
              "      <td>2.0</td>\n",
              "      <td>3.0</td>\n",
              "      <td>5.0</td>\n",
              "      <td>0</td>\n",
              "      <td>Mitte_Mitte</td>\n",
              "      <td>70.3</td>\n",
              "      <td>1</td>\n",
              "      <td>Stallschreiberstraße 27, 10179 Berlin, Germany</td>\n",
              "      <td>above_average</td>\n",
              "      <td>above_average</td>\n",
              "    </tr>\n",
              "    <tr>\n",
              "      <th>3</th>\n",
              "      <td>3</td>\n",
              "      <td>228.78</td>\n",
              "      <td>floor_heating</td>\n",
              "      <td>0</td>\n",
              "      <td>1</td>\n",
              "      <td>32.1</td>\n",
              "      <td>1428.78</td>\n",
              "      <td>2017.0</td>\n",
              "      <td>107589685</td>\n",
              "      <td>1</td>\n",
              "      <td>...</td>\n",
              "      <td>2.5</td>\n",
              "      <td>6.0</td>\n",
              "      <td>7.0</td>\n",
              "      <td>0</td>\n",
              "      <td>Kreuzberg_Kreuzberg</td>\n",
              "      <td>87.8</td>\n",
              "      <td>0</td>\n",
              "      <td>Hallesche Straße 5a, 10963 Berlin, Germany</td>\n",
              "      <td>above_average</td>\n",
              "      <td>above_average</td>\n",
              "    </tr>\n",
              "    <tr>\n",
              "      <th>4</th>\n",
              "      <td>4</td>\n",
              "      <td>147.08</td>\n",
              "      <td>district_heating</td>\n",
              "      <td>1</td>\n",
              "      <td>1</td>\n",
              "      <td>40.0</td>\n",
              "      <td>1559.05</td>\n",
              "      <td>2019.0</td>\n",
              "      <td>114773727</td>\n",
              "      <td>1</td>\n",
              "      <td>...</td>\n",
              "      <td>2.0</td>\n",
              "      <td>0.0</td>\n",
              "      <td>6.0</td>\n",
              "      <td>0</td>\n",
              "      <td>Tiergarten_Tiergarten</td>\n",
              "      <td>73.5</td>\n",
              "      <td>0</td>\n",
              "      <td>Heidestraße 19, 10557 Berlin, Germany</td>\n",
              "      <td>above_average</td>\n",
              "      <td>above_average</td>\n",
              "    </tr>\n",
              "  </tbody>\n",
              "</table>\n",
              "<p>5 rows × 27 columns</p>\n",
              "</div>\n",
              "    <div class=\"colab-df-buttons\">\n",
              "\n",
              "  <div class=\"colab-df-container\">\n",
              "    <button class=\"colab-df-convert\" onclick=\"convertToInteractive('df-da321f7b-9fc7-427f-bcd9-c737b5daec4d')\"\n",
              "            title=\"Convert this dataframe to an interactive table.\"\n",
              "            style=\"display:none;\">\n",
              "\n",
              "  <svg xmlns=\"http://www.w3.org/2000/svg\" height=\"24px\" viewBox=\"0 -960 960 960\">\n",
              "    <path d=\"M120-120v-720h720v720H120Zm60-500h600v-160H180v160Zm220 220h160v-160H400v160Zm0 220h160v-160H400v160ZM180-400h160v-160H180v160Zm440 0h160v-160H620v160ZM180-180h160v-160H180v160Zm440 0h160v-160H620v160Z\"/>\n",
              "  </svg>\n",
              "    </button>\n",
              "\n",
              "  <style>\n",
              "    .colab-df-container {\n",
              "      display:flex;\n",
              "      gap: 12px;\n",
              "    }\n",
              "\n",
              "    .colab-df-convert {\n",
              "      background-color: #E8F0FE;\n",
              "      border: none;\n",
              "      border-radius: 50%;\n",
              "      cursor: pointer;\n",
              "      display: none;\n",
              "      fill: #1967D2;\n",
              "      height: 32px;\n",
              "      padding: 0 0 0 0;\n",
              "      width: 32px;\n",
              "    }\n",
              "\n",
              "    .colab-df-convert:hover {\n",
              "      background-color: #E2EBFA;\n",
              "      box-shadow: 0px 1px 2px rgba(60, 64, 67, 0.3), 0px 1px 3px 1px rgba(60, 64, 67, 0.15);\n",
              "      fill: #174EA6;\n",
              "    }\n",
              "\n",
              "    .colab-df-buttons div {\n",
              "      margin-bottom: 4px;\n",
              "    }\n",
              "\n",
              "    [theme=dark] .colab-df-convert {\n",
              "      background-color: #3B4455;\n",
              "      fill: #D2E3FC;\n",
              "    }\n",
              "\n",
              "    [theme=dark] .colab-df-convert:hover {\n",
              "      background-color: #434B5C;\n",
              "      box-shadow: 0px 1px 3px 1px rgba(0, 0, 0, 0.15);\n",
              "      filter: drop-shadow(0px 1px 2px rgba(0, 0, 0, 0.3));\n",
              "      fill: #FFFFFF;\n",
              "    }\n",
              "  </style>\n",
              "\n",
              "    <script>\n",
              "      const buttonEl =\n",
              "        document.querySelector('#df-da321f7b-9fc7-427f-bcd9-c737b5daec4d button.colab-df-convert');\n",
              "      buttonEl.style.display =\n",
              "        google.colab.kernel.accessAllowed ? 'block' : 'none';\n",
              "\n",
              "      async function convertToInteractive(key) {\n",
              "        const element = document.querySelector('#df-da321f7b-9fc7-427f-bcd9-c737b5daec4d');\n",
              "        const dataTable =\n",
              "          await google.colab.kernel.invokeFunction('convertToInteractive',\n",
              "                                                    [key], {});\n",
              "        if (!dataTable) return;\n",
              "\n",
              "        const docLinkHtml = 'Like what you see? Visit the ' +\n",
              "          '<a target=\"_blank\" href=https://colab.research.google.com/notebooks/data_table.ipynb>data table notebook</a>'\n",
              "          + ' to learn more about interactive tables.';\n",
              "        element.innerHTML = '';\n",
              "        dataTable['output_type'] = 'display_data';\n",
              "        await google.colab.output.renderOutput(dataTable, element);\n",
              "        const docLink = document.createElement('div');\n",
              "        docLink.innerHTML = docLinkHtml;\n",
              "        element.appendChild(docLink);\n",
              "      }\n",
              "    </script>\n",
              "  </div>\n",
              "\n",
              "\n",
              "<div id=\"df-44820b0a-e275-4a25-b40b-f0c7eeb4e315\">\n",
              "  <button class=\"colab-df-quickchart\" onclick=\"quickchart('df-44820b0a-e275-4a25-b40b-f0c7eeb4e315')\"\n",
              "            title=\"Suggest charts\"\n",
              "            style=\"display:none;\">\n",
              "\n",
              "<svg xmlns=\"http://www.w3.org/2000/svg\" height=\"24px\"viewBox=\"0 0 24 24\"\n",
              "     width=\"24px\">\n",
              "    <g>\n",
              "        <path d=\"M19 3H5c-1.1 0-2 .9-2 2v14c0 1.1.9 2 2 2h14c1.1 0 2-.9 2-2V5c0-1.1-.9-2-2-2zM9 17H7v-7h2v7zm4 0h-2V7h2v10zm4 0h-2v-4h2v4z\"/>\n",
              "    </g>\n",
              "</svg>\n",
              "  </button>\n",
              "\n",
              "<style>\n",
              "  .colab-df-quickchart {\n",
              "      --bg-color: #E8F0FE;\n",
              "      --fill-color: #1967D2;\n",
              "      --hover-bg-color: #E2EBFA;\n",
              "      --hover-fill-color: #174EA6;\n",
              "      --disabled-fill-color: #AAA;\n",
              "      --disabled-bg-color: #DDD;\n",
              "  }\n",
              "\n",
              "  [theme=dark] .colab-df-quickchart {\n",
              "      --bg-color: #3B4455;\n",
              "      --fill-color: #D2E3FC;\n",
              "      --hover-bg-color: #434B5C;\n",
              "      --hover-fill-color: #FFFFFF;\n",
              "      --disabled-bg-color: #3B4455;\n",
              "      --disabled-fill-color: #666;\n",
              "  }\n",
              "\n",
              "  .colab-df-quickchart {\n",
              "    background-color: var(--bg-color);\n",
              "    border: none;\n",
              "    border-radius: 50%;\n",
              "    cursor: pointer;\n",
              "    display: none;\n",
              "    fill: var(--fill-color);\n",
              "    height: 32px;\n",
              "    padding: 0;\n",
              "    width: 32px;\n",
              "  }\n",
              "\n",
              "  .colab-df-quickchart:hover {\n",
              "    background-color: var(--hover-bg-color);\n",
              "    box-shadow: 0 1px 2px rgba(60, 64, 67, 0.3), 0 1px 3px 1px rgba(60, 64, 67, 0.15);\n",
              "    fill: var(--button-hover-fill-color);\n",
              "  }\n",
              "\n",
              "  .colab-df-quickchart-complete:disabled,\n",
              "  .colab-df-quickchart-complete:disabled:hover {\n",
              "    background-color: var(--disabled-bg-color);\n",
              "    fill: var(--disabled-fill-color);\n",
              "    box-shadow: none;\n",
              "  }\n",
              "\n",
              "  .colab-df-spinner {\n",
              "    border: 2px solid var(--fill-color);\n",
              "    border-color: transparent;\n",
              "    border-bottom-color: var(--fill-color);\n",
              "    animation:\n",
              "      spin 1s steps(1) infinite;\n",
              "  }\n",
              "\n",
              "  @keyframes spin {\n",
              "    0% {\n",
              "      border-color: transparent;\n",
              "      border-bottom-color: var(--fill-color);\n",
              "      border-left-color: var(--fill-color);\n",
              "    }\n",
              "    20% {\n",
              "      border-color: transparent;\n",
              "      border-left-color: var(--fill-color);\n",
              "      border-top-color: var(--fill-color);\n",
              "    }\n",
              "    30% {\n",
              "      border-color: transparent;\n",
              "      border-left-color: var(--fill-color);\n",
              "      border-top-color: var(--fill-color);\n",
              "      border-right-color: var(--fill-color);\n",
              "    }\n",
              "    40% {\n",
              "      border-color: transparent;\n",
              "      border-right-color: var(--fill-color);\n",
              "      border-top-color: var(--fill-color);\n",
              "    }\n",
              "    60% {\n",
              "      border-color: transparent;\n",
              "      border-right-color: var(--fill-color);\n",
              "    }\n",
              "    80% {\n",
              "      border-color: transparent;\n",
              "      border-right-color: var(--fill-color);\n",
              "      border-bottom-color: var(--fill-color);\n",
              "    }\n",
              "    90% {\n",
              "      border-color: transparent;\n",
              "      border-bottom-color: var(--fill-color);\n",
              "    }\n",
              "  }\n",
              "</style>\n",
              "\n",
              "  <script>\n",
              "    async function quickchart(key) {\n",
              "      const quickchartButtonEl =\n",
              "        document.querySelector('#' + key + ' button');\n",
              "      quickchartButtonEl.disabled = true;  // To prevent multiple clicks.\n",
              "      quickchartButtonEl.classList.add('colab-df-spinner');\n",
              "      try {\n",
              "        const charts = await google.colab.kernel.invokeFunction(\n",
              "            'suggestCharts', [key], {});\n",
              "      } catch (error) {\n",
              "        console.error('Error during call to suggestCharts:', error);\n",
              "      }\n",
              "      quickchartButtonEl.classList.remove('colab-df-spinner');\n",
              "      quickchartButtonEl.classList.add('colab-df-quickchart-complete');\n",
              "    }\n",
              "    (() => {\n",
              "      let quickchartButtonEl =\n",
              "        document.querySelector('#df-44820b0a-e275-4a25-b40b-f0c7eeb4e315 button');\n",
              "      quickchartButtonEl.style.display =\n",
              "        google.colab.kernel.accessAllowed ? 'block' : 'none';\n",
              "    })();\n",
              "  </script>\n",
              "</div>\n",
              "\n",
              "    </div>\n",
              "  </div>\n"
            ],
            "text/plain": [
              "   Unnamed: 0  serviceCharge       heatingType  newlyConst  balcony  \\\n",
              "0           0         320.00   central_heating           0        1   \n",
              "1           1          79.00   central_heating           0        0   \n",
              "2           2         150.00     floor_heating           1        1   \n",
              "3           3         228.78     floor_heating           0        1   \n",
              "4           4         147.08  district_heating           1        1   \n",
              "\n",
              "   telekomUploadSpeed  totalRent  yearConstructed    scoutId  hasKitchen  ...  \\\n",
              "0                32.1    1140.00           1980.0  115671495           1  ...   \n",
              "1                40.0     955.00           1918.0  113359456           0  ...   \n",
              "2                40.0    1300.00           2019.0  113704695           1  ...   \n",
              "3                32.1    1428.78           2017.0  107589685           1  ...   \n",
              "4                40.0    1559.05           2019.0  114773727           1  ...   \n",
              "\n",
              "   noRooms  floorNo  numberOfFloors garden                 regio3  \\\n",
              "0      3.0      0.0             3.0      0        Staaken_Spandau   \n",
              "1      2.0      0.0             3.0      0    Weißensee_Weißensee   \n",
              "2      2.0      3.0             5.0      0            Mitte_Mitte   \n",
              "3      2.5      6.0             7.0      0    Kreuzberg_Kreuzberg   \n",
              "4      2.0      0.0             6.0      0  Tiergarten_Tiergarten   \n",
              "\n",
              "   heatingCosts ParkSpaces                                     fullAddress  \\\n",
              "0         105.4          1     Metropolitan Park 63, 13591 Berlin, Germany   \n",
              "1          68.0          0           Börnestraße 11, 13086 Berlin, Germany   \n",
              "2          70.3          1  Stallschreiberstraße 27, 10179 Berlin, Germany   \n",
              "3          87.8          0      Hallesche Straße 5a, 10963 Berlin, Germany   \n",
              "4          73.5          0           Heidestraße 19, 10557 Berlin, Germany   \n",
              "\n",
              "   price_category  price_category_pred  \n",
              "0   below_average        above_average  \n",
              "1   below_average        above_average  \n",
              "2   above_average        above_average  \n",
              "3   above_average        above_average  \n",
              "4   above_average        above_average  \n",
              "\n",
              "[5 rows x 27 columns]"
            ]
          },
          "execution_count": 28,
          "metadata": {},
          "output_type": "execute_result"
        }
      ],
      "source": [
        "df_predictions.head()"
      ]
    },
    {
      "cell_type": "code",
      "execution_count": null,
      "metadata": {
        "colab": {
          "base_uri": "https://localhost:8080/",
          "height": 453
        },
        "id": "HeTGdgcAkesq",
        "outputId": "36ee444f-8ef7-405a-81d8-516ace4c881b"
      },
      "outputs": [
        {
          "data": {
            "text/html": [
              "<div>\n",
              "<style scoped>\n",
              "    .dataframe tbody tr th:only-of-type {\n",
              "        vertical-align: middle;\n",
              "    }\n",
              "\n",
              "    .dataframe tbody tr th {\n",
              "        vertical-align: top;\n",
              "    }\n",
              "\n",
              "    .dataframe thead th {\n",
              "        text-align: right;\n",
              "    }\n",
              "</style>\n",
              "<table border=\"1\" class=\"dataframe\">\n",
              "  <thead>\n",
              "    <tr style=\"text-align: right;\">\n",
              "      <th></th>\n",
              "      <th>price_category</th>\n",
              "    </tr>\n",
              "  </thead>\n",
              "  <tbody>\n",
              "    <tr>\n",
              "      <th>0</th>\n",
              "      <td>below_average</td>\n",
              "    </tr>\n",
              "    <tr>\n",
              "      <th>1</th>\n",
              "      <td>below_average</td>\n",
              "    </tr>\n",
              "    <tr>\n",
              "      <th>2</th>\n",
              "      <td>above_average</td>\n",
              "    </tr>\n",
              "    <tr>\n",
              "      <th>3</th>\n",
              "      <td>above_average</td>\n",
              "    </tr>\n",
              "    <tr>\n",
              "      <th>4</th>\n",
              "      <td>above_average</td>\n",
              "    </tr>\n",
              "    <tr>\n",
              "      <th>...</th>\n",
              "      <td>...</td>\n",
              "    </tr>\n",
              "    <tr>\n",
              "      <th>8874</th>\n",
              "      <td>below_average</td>\n",
              "    </tr>\n",
              "    <tr>\n",
              "      <th>8875</th>\n",
              "      <td>below_average</td>\n",
              "    </tr>\n",
              "    <tr>\n",
              "      <th>8876</th>\n",
              "      <td>below_average</td>\n",
              "    </tr>\n",
              "    <tr>\n",
              "      <th>8877</th>\n",
              "      <td>below_average</td>\n",
              "    </tr>\n",
              "    <tr>\n",
              "      <th>8878</th>\n",
              "      <td>below_average</td>\n",
              "    </tr>\n",
              "  </tbody>\n",
              "</table>\n",
              "<p>8879 rows × 1 columns</p>\n",
              "</div><br><label><b>dtype:</b> object</label>"
            ],
            "text/plain": [
              "0       below_average\n",
              "1       below_average\n",
              "2       above_average\n",
              "3       above_average\n",
              "4       above_average\n",
              "            ...      \n",
              "8874    below_average\n",
              "8875    below_average\n",
              "8876    below_average\n",
              "8877    below_average\n",
              "8878    below_average\n",
              "Name: price_category, Length: 8879, dtype: object"
            ]
          },
          "execution_count": 29,
          "metadata": {},
          "output_type": "execute_result"
        }
      ],
      "source": [
        "df_predictions.price_category"
      ]
    },
    {
      "cell_type": "code",
      "execution_count": null,
      "metadata": {
        "colab": {
          "base_uri": "https://localhost:8080/",
          "height": 176
        },
        "id": "fltnfVDGkk7s",
        "outputId": "f630d5a6-2e39-41bb-b31b-a58de93e6f29"
      },
      "outputs": [
        {
          "data": {
            "text/html": [
              "<div>\n",
              "<style scoped>\n",
              "    .dataframe tbody tr th:only-of-type {\n",
              "        vertical-align: middle;\n",
              "    }\n",
              "\n",
              "    .dataframe tbody tr th {\n",
              "        vertical-align: top;\n",
              "    }\n",
              "\n",
              "    .dataframe thead th {\n",
              "        text-align: right;\n",
              "    }\n",
              "</style>\n",
              "<table border=\"1\" class=\"dataframe\">\n",
              "  <thead>\n",
              "    <tr style=\"text-align: right;\">\n",
              "      <th></th>\n",
              "      <th>count</th>\n",
              "    </tr>\n",
              "    <tr>\n",
              "      <th>price_category</th>\n",
              "      <th></th>\n",
              "    </tr>\n",
              "  </thead>\n",
              "  <tbody>\n",
              "    <tr>\n",
              "      <th>below_average</th>\n",
              "      <td>5450</td>\n",
              "    </tr>\n",
              "    <tr>\n",
              "      <th>above_average</th>\n",
              "      <td>3429</td>\n",
              "    </tr>\n",
              "  </tbody>\n",
              "</table>\n",
              "</div><br><label><b>dtype:</b> int64</label>"
            ],
            "text/plain": [
              "price_category\n",
              "below_average    5450\n",
              "above_average    3429\n",
              "Name: count, dtype: int64"
            ]
          },
          "execution_count": 33,
          "metadata": {},
          "output_type": "execute_result"
        }
      ],
      "source": [
        "df_berlin['price_category'].value_counts()"
      ]
    },
    {
      "cell_type": "code",
      "execution_count": null,
      "metadata": {
        "id": "qOWd18IDkpwx"
      },
      "outputs": [],
      "source": []
    }
  ],
  "metadata": {
    "colab": {
      "collapsed_sections": [
        "1CiTUgRYgzhe",
        "3NtHfNdTgwn5",
        "Swbc9QJDhOnu",
        "JMUqkGMFiQNZ",
        "CrxjWFA2im0d",
        "Gkj4w42LlH_W"
      ],
      "provenance": []
    },
    "kernelspec": {
      "display_name": "Python 3",
      "name": "python3"
    },
    "language_info": {
      "codemirror_mode": {
        "name": "ipython",
        "version": 3
      },
      "file_extension": ".py",
      "mimetype": "text/x-python",
      "name": "python",
      "nbconvert_exporter": "python",
      "pygments_lexer": "ipython3",
      "version": "3.10.6"
    }
  },
  "nbformat": 4,
  "nbformat_minor": 0
}
