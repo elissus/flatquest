{
 "cells": [
  {
   "cell_type": "code",
   "execution_count": 2,
   "id": "365ee427",
   "metadata": {},
   "outputs": [],
   "source": [
    "import pandas as pd\n",
    "import numpy as np\n"
   ]
  },
  {
   "cell_type": "markdown",
   "id": "634dcfb3",
   "metadata": {},
   "source": [
    "# Loading data and getting features overview"
   ]
  },
  {
   "cell_type": "code",
   "execution_count": 3,
   "id": "2178365c",
   "metadata": {},
   "outputs": [],
   "source": [
    "df = pd.read_csv('/Users/LinhVu/code/linhvu12/elissus/RawData/immo_data.csv')"
   ]
  },
  {
   "cell_type": "code",
   "execution_count": 4,
   "id": "c151c7f8",
   "metadata": {},
   "outputs": [
    {
     "data": {
      "text/plain": [
       "(268850, 49)"
      ]
     },
     "execution_count": 4,
     "metadata": {},
     "output_type": "execute_result"
    }
   ],
   "source": [
    "#How many entries & features?\n",
    "\n",
    "df.shape"
   ]
  },
  {
   "cell_type": "code",
   "execution_count": 5,
   "id": "5d51f8b0",
   "metadata": {},
   "outputs": [
    {
     "data": {
      "text/plain": [
       "Index(['regio1', 'serviceCharge', 'heatingType', 'telekomTvOffer',\n",
       "       'telekomHybridUploadSpeed', 'newlyConst', 'balcony', 'picturecount',\n",
       "       'pricetrend', 'telekomUploadSpeed', 'totalRent', 'yearConstructed',\n",
       "       'scoutId', 'noParkSpaces', 'firingTypes', 'hasKitchen', 'geo_bln',\n",
       "       'cellar', 'yearConstructedRange', 'baseRent', 'houseNumber',\n",
       "       'livingSpace', 'geo_krs', 'condition', 'interiorQual', 'petsAllowed',\n",
       "       'street', 'streetPlain', 'lift', 'baseRentRange', 'typeOfFlat',\n",
       "       'geo_plz', 'noRooms', 'thermalChar', 'floor', 'numberOfFloors',\n",
       "       'noRoomsRange', 'garden', 'livingSpaceRange', 'regio2', 'regio3',\n",
       "       'description', 'facilities', 'heatingCosts', 'energyEfficiencyClass',\n",
       "       'lastRefurbish', 'electricityBasePrice', 'electricityKwhPrice', 'date'],\n",
       "      dtype='object')"
      ]
     },
     "execution_count": 5,
     "metadata": {},
     "output_type": "execute_result"
    }
   ],
   "source": [
    "df.columns"
   ]
  },
  {
   "cell_type": "code",
   "execution_count": 6,
   "id": "f22fb156",
   "metadata": {},
   "outputs": [
    {
     "data": {
      "text/plain": [
       "array(['Nordrhein_Westfalen', 'Rheinland_Pfalz', 'Sachsen', 'Bremen',\n",
       "       'Schleswig_Holstein', 'Baden_Württemberg', 'Thüringen', 'Hessen',\n",
       "       'Niedersachsen', 'Bayern', 'Hamburg', 'Sachsen_Anhalt',\n",
       "       'Mecklenburg_Vorpommern', 'Berlin', 'Brandenburg', 'Saarland'],\n",
       "      dtype=object)"
      ]
     },
     "execution_count": 6,
     "metadata": {},
     "output_type": "execute_result"
    }
   ],
   "source": [
    "#In which states are the properties located?\n",
    "\n",
    "df['regio1'].unique()"
   ]
  },
  {
   "cell_type": "markdown",
   "id": "58d80b3d",
   "metadata": {},
   "source": [
    "## Extract Berlin"
   ]
  },
  {
   "cell_type": "code",
   "execution_count": 7,
   "id": "57494d2f",
   "metadata": {},
   "outputs": [
    {
     "data": {
      "text/plain": [
       "(10406, 49)"
      ]
     },
     "execution_count": 7,
     "metadata": {},
     "output_type": "execute_result"
    }
   ],
   "source": [
    "# Filter the DataFrame for Berlin\n",
    "\n",
    "df_berlin = df[df['regio1'] == 'Berlin']\n",
    "df_berlin.shape"
   ]
  },
  {
   "cell_type": "code",
   "execution_count": 8,
   "id": "31c3beb9",
   "metadata": {},
   "outputs": [],
   "source": [
    "# Save the Berlin subset to a new CSV file\n",
    "df_berlin.to_csv('berlin_rawdata.csv', index=False)"
   ]
  },
  {
   "cell_type": "code",
   "execution_count": 9,
   "id": "6d2eb927",
   "metadata": {},
   "outputs": [
    {
     "data": {
      "text/html": [
       "<div>\n",
       "<style scoped>\n",
       "    .dataframe tbody tr th:only-of-type {\n",
       "        vertical-align: middle;\n",
       "    }\n",
       "\n",
       "    .dataframe tbody tr th {\n",
       "        vertical-align: top;\n",
       "    }\n",
       "\n",
       "    .dataframe thead th {\n",
       "        text-align: right;\n",
       "    }\n",
       "</style>\n",
       "<table border=\"1\" class=\"dataframe\">\n",
       "  <thead>\n",
       "    <tr style=\"text-align: right;\">\n",
       "      <th></th>\n",
       "      <th>regio1</th>\n",
       "      <th>serviceCharge</th>\n",
       "      <th>heatingType</th>\n",
       "      <th>telekomTvOffer</th>\n",
       "      <th>telekomHybridUploadSpeed</th>\n",
       "      <th>newlyConst</th>\n",
       "      <th>balcony</th>\n",
       "      <th>picturecount</th>\n",
       "      <th>pricetrend</th>\n",
       "      <th>telekomUploadSpeed</th>\n",
       "      <th>...</th>\n",
       "      <th>regio2</th>\n",
       "      <th>regio3</th>\n",
       "      <th>description</th>\n",
       "      <th>facilities</th>\n",
       "      <th>heatingCosts</th>\n",
       "      <th>energyEfficiencyClass</th>\n",
       "      <th>lastRefurbish</th>\n",
       "      <th>electricityBasePrice</th>\n",
       "      <th>electricityKwhPrice</th>\n",
       "      <th>date</th>\n",
       "    </tr>\n",
       "  </thead>\n",
       "  <tbody>\n",
       "    <tr>\n",
       "      <th>45</th>\n",
       "      <td>Berlin</td>\n",
       "      <td>320.00</td>\n",
       "      <td>central_heating</td>\n",
       "      <td>NaN</td>\n",
       "      <td>NaN</td>\n",
       "      <td>False</td>\n",
       "      <td>True</td>\n",
       "      <td>10</td>\n",
       "      <td>4.99</td>\n",
       "      <td>NaN</td>\n",
       "      <td>...</td>\n",
       "      <td>Berlin</td>\n",
       "      <td>Staaken_Spandau</td>\n",
       "      <td>Diese attraktive EG-Wohnung kann ab sofort bez...</td>\n",
       "      <td>NaN</td>\n",
       "      <td>NaN</td>\n",
       "      <td>NaN</td>\n",
       "      <td>NaN</td>\n",
       "      <td>NaN</td>\n",
       "      <td>NaN</td>\n",
       "      <td>Feb20</td>\n",
       "    </tr>\n",
       "    <tr>\n",
       "      <th>61</th>\n",
       "      <td>Berlin</td>\n",
       "      <td>79.00</td>\n",
       "      <td>central_heating</td>\n",
       "      <td>ONE_YEAR_FREE</td>\n",
       "      <td>NaN</td>\n",
       "      <td>False</td>\n",
       "      <td>False</td>\n",
       "      <td>17</td>\n",
       "      <td>7.35</td>\n",
       "      <td>40.0</td>\n",
       "      <td>...</td>\n",
       "      <td>Berlin</td>\n",
       "      <td>Weißensee_Weißensee</td>\n",
       "      <td>Suchen Sie eine 2-Zimmerwohnung in Weißensee? ...</td>\n",
       "      <td>Zusammengefasst bietet die Wohnung:\\n+ Vollstä...</td>\n",
       "      <td>68.00</td>\n",
       "      <td>NaN</td>\n",
       "      <td>NaN</td>\n",
       "      <td>NaN</td>\n",
       "      <td>NaN</td>\n",
       "      <td>Oct19</td>\n",
       "    </tr>\n",
       "    <tr>\n",
       "      <th>77</th>\n",
       "      <td>Berlin</td>\n",
       "      <td>150.00</td>\n",
       "      <td>floor_heating</td>\n",
       "      <td>ONE_YEAR_FREE</td>\n",
       "      <td>NaN</td>\n",
       "      <td>True</td>\n",
       "      <td>True</td>\n",
       "      <td>15</td>\n",
       "      <td>6.60</td>\n",
       "      <td>40.0</td>\n",
       "      <td>...</td>\n",
       "      <td>Berlin</td>\n",
       "      <td>Mitte_Mitte</td>\n",
       "      <td>Dieses luxuriöse Neubauquartier direkt am Luis...</td>\n",
       "      <td>• sehr ruhig gelegen, trotz zentraler Lage, da...</td>\n",
       "      <td>NaN</td>\n",
       "      <td>NaN</td>\n",
       "      <td>NaN</td>\n",
       "      <td>NaN</td>\n",
       "      <td>NaN</td>\n",
       "      <td>Oct19</td>\n",
       "    </tr>\n",
       "    <tr>\n",
       "      <th>86</th>\n",
       "      <td>Berlin</td>\n",
       "      <td>228.78</td>\n",
       "      <td>floor_heating</td>\n",
       "      <td>NaN</td>\n",
       "      <td>NaN</td>\n",
       "      <td>False</td>\n",
       "      <td>True</td>\n",
       "      <td>2</td>\n",
       "      <td>8.63</td>\n",
       "      <td>NaN</td>\n",
       "      <td>...</td>\n",
       "      <td>Berlin</td>\n",
       "      <td>Kreuzberg_Kreuzberg</td>\n",
       "      <td>Bei dieser ansprechenden Immobilie handelt es ...</td>\n",
       "      <td>Balkon und 10m Terasse</td>\n",
       "      <td>NaN</td>\n",
       "      <td>NaN</td>\n",
       "      <td>NaN</td>\n",
       "      <td>NaN</td>\n",
       "      <td>NaN</td>\n",
       "      <td>Oct19</td>\n",
       "    </tr>\n",
       "    <tr>\n",
       "      <th>87</th>\n",
       "      <td>Berlin</td>\n",
       "      <td>147.08</td>\n",
       "      <td>district_heating</td>\n",
       "      <td>ONE_YEAR_FREE</td>\n",
       "      <td>NaN</td>\n",
       "      <td>True</td>\n",
       "      <td>True</td>\n",
       "      <td>9</td>\n",
       "      <td>7.56</td>\n",
       "      <td>40.0</td>\n",
       "      <td>...</td>\n",
       "      <td>Berlin</td>\n",
       "      <td>Tiergarten_Tiergarten</td>\n",
       "      <td>In the \"\"Wasserstadt - Mitte\"\" you can expect ...</td>\n",
       "      <td>Your spacious ground floor apartment is equipp...</td>\n",
       "      <td>73.54</td>\n",
       "      <td>B</td>\n",
       "      <td>2019.0</td>\n",
       "      <td>NaN</td>\n",
       "      <td>NaN</td>\n",
       "      <td>Feb20</td>\n",
       "    </tr>\n",
       "  </tbody>\n",
       "</table>\n",
       "<p>5 rows × 49 columns</p>\n",
       "</div>"
      ],
      "text/plain": [
       "    regio1  serviceCharge       heatingType telekomTvOffer  \\\n",
       "45  Berlin         320.00   central_heating            NaN   \n",
       "61  Berlin          79.00   central_heating  ONE_YEAR_FREE   \n",
       "77  Berlin         150.00     floor_heating  ONE_YEAR_FREE   \n",
       "86  Berlin         228.78     floor_heating            NaN   \n",
       "87  Berlin         147.08  district_heating  ONE_YEAR_FREE   \n",
       "\n",
       "    telekomHybridUploadSpeed  newlyConst  balcony  picturecount  pricetrend  \\\n",
       "45                       NaN       False     True            10        4.99   \n",
       "61                       NaN       False    False            17        7.35   \n",
       "77                       NaN        True     True            15        6.60   \n",
       "86                       NaN       False     True             2        8.63   \n",
       "87                       NaN        True     True             9        7.56   \n",
       "\n",
       "    telekomUploadSpeed  ...  regio2                 regio3  \\\n",
       "45                 NaN  ...  Berlin        Staaken_Spandau   \n",
       "61                40.0  ...  Berlin    Weißensee_Weißensee   \n",
       "77                40.0  ...  Berlin            Mitte_Mitte   \n",
       "86                 NaN  ...  Berlin    Kreuzberg_Kreuzberg   \n",
       "87                40.0  ...  Berlin  Tiergarten_Tiergarten   \n",
       "\n",
       "                                          description  \\\n",
       "45  Diese attraktive EG-Wohnung kann ab sofort bez...   \n",
       "61  Suchen Sie eine 2-Zimmerwohnung in Weißensee? ...   \n",
       "77  Dieses luxuriöse Neubauquartier direkt am Luis...   \n",
       "86  Bei dieser ansprechenden Immobilie handelt es ...   \n",
       "87  In the \"\"Wasserstadt - Mitte\"\" you can expect ...   \n",
       "\n",
       "                                           facilities heatingCosts  \\\n",
       "45                                                NaN          NaN   \n",
       "61  Zusammengefasst bietet die Wohnung:\\n+ Vollstä...        68.00   \n",
       "77  • sehr ruhig gelegen, trotz zentraler Lage, da...          NaN   \n",
       "86                             Balkon und 10m Terasse          NaN   \n",
       "87  Your spacious ground floor apartment is equipp...        73.54   \n",
       "\n",
       "    energyEfficiencyClass lastRefurbish  electricityBasePrice  \\\n",
       "45                    NaN           NaN                   NaN   \n",
       "61                    NaN           NaN                   NaN   \n",
       "77                    NaN           NaN                   NaN   \n",
       "86                    NaN           NaN                   NaN   \n",
       "87                      B        2019.0                   NaN   \n",
       "\n",
       "    electricityKwhPrice   date  \n",
       "45                  NaN  Feb20  \n",
       "61                  NaN  Oct19  \n",
       "77                  NaN  Oct19  \n",
       "86                  NaN  Oct19  \n",
       "87                  NaN  Feb20  \n",
       "\n",
       "[5 rows x 49 columns]"
      ]
     },
     "execution_count": 9,
     "metadata": {},
     "output_type": "execute_result"
    }
   ],
   "source": [
    "df_berlin.head()"
   ]
  },
  {
   "cell_type": "code",
   "execution_count": 10,
   "id": "e1381697",
   "metadata": {
    "scrolled": true
   },
   "outputs": [
    {
     "name": "stdout",
     "output_type": "stream",
     "text": [
      "<class 'pandas.core.frame.DataFrame'>\n",
      "Int64Index: 10406 entries, 45 to 268829\n",
      "Data columns (total 49 columns):\n",
      " #   Column                    Non-Null Count  Dtype  \n",
      "---  ------                    --------------  -----  \n",
      " 0   regio1                    10406 non-null  object \n",
      " 1   serviceCharge             10171 non-null  float64\n",
      " 2   heatingType               8935 non-null   object \n",
      " 3   telekomTvOffer            8994 non-null   object \n",
      " 4   telekomHybridUploadSpeed  918 non-null    float64\n",
      " 5   newlyConst                10406 non-null  bool   \n",
      " 6   balcony                   10406 non-null  bool   \n",
      " 7   picturecount              10406 non-null  int64  \n",
      " 8   pricetrend                10381 non-null  float64\n",
      " 9   telekomUploadSpeed        8993 non-null   float64\n",
      " 10  totalRent                 9744 non-null   float64\n",
      " 11  yearConstructed           8981 non-null   float64\n",
      " 12  scoutId                   10406 non-null  int64  \n",
      " 13  noParkSpaces              2013 non-null   float64\n",
      " 14  firingTypes               8122 non-null   object \n",
      " 15  hasKitchen                10406 non-null  bool   \n",
      " 16  geo_bln                   10406 non-null  object \n",
      " 17  cellar                    10406 non-null  bool   \n",
      " 18  yearConstructedRange      8981 non-null   float64\n",
      " 19  baseRent                  10406 non-null  float64\n",
      " 20  houseNumber               8879 non-null   object \n",
      " 21  livingSpace               10406 non-null  float64\n",
      " 22  geo_krs                   10406 non-null  object \n",
      " 23  condition                 8138 non-null   object \n",
      " 24  interiorQual              6198 non-null   object \n",
      " 25  petsAllowed               5568 non-null   object \n",
      " 26  street                    10406 non-null  object \n",
      " 27  streetPlain               8879 non-null   object \n",
      " 28  lift                      10406 non-null  bool   \n",
      " 29  baseRentRange             10406 non-null  int64  \n",
      " 30  typeOfFlat                9602 non-null   object \n",
      " 31  geo_plz                   10406 non-null  int64  \n",
      " 32  noRooms                   10406 non-null  float64\n",
      " 33  thermalChar               7131 non-null   float64\n",
      " 34  floor                     9306 non-null   float64\n",
      " 35  numberOfFloors            7279 non-null   float64\n",
      " 36  noRoomsRange              10406 non-null  int64  \n",
      " 37  garden                    10406 non-null  bool   \n",
      " 38  livingSpaceRange          10406 non-null  int64  \n",
      " 39  regio2                    10406 non-null  object \n",
      " 40  regio3                    10406 non-null  object \n",
      " 41  description               9742 non-null   object \n",
      " 42  facilities                9083 non-null   object \n",
      " 43  heatingCosts              5637 non-null   float64\n",
      " 44  energyEfficiencyClass     3489 non-null   object \n",
      " 45  lastRefurbish             3336 non-null   float64\n",
      " 46  electricityBasePrice      1995 non-null   float64\n",
      " 47  electricityKwhPrice       1995 non-null   float64\n",
      " 48  date                      10406 non-null  object \n",
      "dtypes: bool(6), float64(18), int64(6), object(19)\n",
      "memory usage: 3.6+ MB\n"
     ]
    }
   ],
   "source": [
    "df_berlin.info()"
   ]
  },
  {
   "cell_type": "code",
   "execution_count": 11,
   "id": "c2b1342b",
   "metadata": {
    "scrolled": true
   },
   "outputs": [
    {
     "data": {
      "text/plain": [
       "telekomHybridUploadSpeed    0.911782\n",
       "electricityKwhPrice         0.808284\n",
       "electricityBasePrice        0.808284\n",
       "noParkSpaces                0.806554\n",
       "lastRefurbish               0.679416\n",
       "energyEfficiencyClass       0.664713\n",
       "petsAllowed                 0.464924\n",
       "heatingCosts                0.458293\n",
       "interiorQual                0.404382\n",
       "thermalChar                 0.314722\n",
       "numberOfFloors              0.300500\n",
       "firingTypes                 0.219489\n",
       "condition                   0.217951\n",
       "houseNumber                 0.146742\n",
       "streetPlain                 0.146742\n",
       "heatingType                 0.141361\n",
       "yearConstructed             0.136940\n",
       "yearConstructedRange        0.136940\n",
       "telekomUploadSpeed          0.135787\n",
       "telekomTvOffer              0.135691\n",
       "facilities                  0.127138\n",
       "floor                       0.105708\n",
       "typeOfFlat                  0.077263\n",
       "description                 0.063809\n",
       "totalRent                   0.063617\n",
       "serviceCharge               0.022583\n",
       "pricetrend                  0.002402\n",
       "regio2                      0.000000\n",
       "livingSpaceRange            0.000000\n",
       "regio3                      0.000000\n",
       "garden                      0.000000\n",
       "noRoomsRange                0.000000\n",
       "regio1                      0.000000\n",
       "noRooms                     0.000000\n",
       "geo_plz                     0.000000\n",
       "baseRentRange               0.000000\n",
       "lift                        0.000000\n",
       "street                      0.000000\n",
       "geo_krs                     0.000000\n",
       "livingSpace                 0.000000\n",
       "baseRent                    0.000000\n",
       "cellar                      0.000000\n",
       "geo_bln                     0.000000\n",
       "hasKitchen                  0.000000\n",
       "scoutId                     0.000000\n",
       "picturecount                0.000000\n",
       "balcony                     0.000000\n",
       "newlyConst                  0.000000\n",
       "date                        0.000000\n",
       "dtype: float64"
      ]
     },
     "execution_count": 11,
     "metadata": {},
     "output_type": "execute_result"
    }
   ],
   "source": [
    "#Check on missing value\n",
    "#absolute value\n",
    "df_berlin.isnull().sum().sort_values(ascending=False)\n",
    "\n",
    "#relative value\n",
    "df_berlin.isnull().sum().sort_values(ascending=False)/len(df_berlin)"
   ]
  },
  {
   "cell_type": "code",
   "execution_count": 12,
   "id": "64f0cf1e-bfed-46b1-830a-91b77b3c7da5",
   "metadata": {},
   "outputs": [
    {
     "data": {
      "text/plain": [
       "array(['Berlin'], dtype=object)"
      ]
     },
     "execution_count": 12,
     "metadata": {},
     "output_type": "execute_result"
    }
   ],
   "source": [
    "df_berlin.regio1.unique()"
   ]
  },
  {
   "cell_type": "code",
   "execution_count": 13,
   "id": "54bf68ce",
   "metadata": {
    "scrolled": true
   },
   "outputs": [
    {
     "data": {
      "text/html": [
       "<div>\n",
       "<style scoped>\n",
       "    .dataframe tbody tr th:only-of-type {\n",
       "        vertical-align: middle;\n",
       "    }\n",
       "\n",
       "    .dataframe tbody tr th {\n",
       "        vertical-align: top;\n",
       "    }\n",
       "\n",
       "    .dataframe thead th {\n",
       "        text-align: right;\n",
       "    }\n",
       "</style>\n",
       "<table border=\"1\" class=\"dataframe\">\n",
       "  <thead>\n",
       "    <tr style=\"text-align: right;\">\n",
       "      <th></th>\n",
       "      <th>index</th>\n",
       "      <th>regio1</th>\n",
       "      <th>serviceCharge</th>\n",
       "      <th>heatingType</th>\n",
       "      <th>telekomTvOffer</th>\n",
       "      <th>telekomHybridUploadSpeed</th>\n",
       "      <th>newlyConst</th>\n",
       "      <th>balcony</th>\n",
       "      <th>picturecount</th>\n",
       "      <th>pricetrend</th>\n",
       "      <th>...</th>\n",
       "      <th>regio2</th>\n",
       "      <th>regio3</th>\n",
       "      <th>description</th>\n",
       "      <th>facilities</th>\n",
       "      <th>heatingCosts</th>\n",
       "      <th>energyEfficiencyClass</th>\n",
       "      <th>lastRefurbish</th>\n",
       "      <th>electricityBasePrice</th>\n",
       "      <th>electricityKwhPrice</th>\n",
       "      <th>date</th>\n",
       "    </tr>\n",
       "  </thead>\n",
       "  <tbody>\n",
       "    <tr>\n",
       "      <th>0</th>\n",
       "      <td>45</td>\n",
       "      <td>Berlin</td>\n",
       "      <td>320.00</td>\n",
       "      <td>central_heating</td>\n",
       "      <td>NaN</td>\n",
       "      <td>NaN</td>\n",
       "      <td>False</td>\n",
       "      <td>True</td>\n",
       "      <td>10</td>\n",
       "      <td>4.99</td>\n",
       "      <td>...</td>\n",
       "      <td>Berlin</td>\n",
       "      <td>Staaken_Spandau</td>\n",
       "      <td>Diese attraktive EG-Wohnung kann ab sofort bez...</td>\n",
       "      <td>NaN</td>\n",
       "      <td>NaN</td>\n",
       "      <td>NaN</td>\n",
       "      <td>NaN</td>\n",
       "      <td>NaN</td>\n",
       "      <td>NaN</td>\n",
       "      <td>Feb20</td>\n",
       "    </tr>\n",
       "    <tr>\n",
       "      <th>1</th>\n",
       "      <td>61</td>\n",
       "      <td>Berlin</td>\n",
       "      <td>79.00</td>\n",
       "      <td>central_heating</td>\n",
       "      <td>ONE_YEAR_FREE</td>\n",
       "      <td>NaN</td>\n",
       "      <td>False</td>\n",
       "      <td>False</td>\n",
       "      <td>17</td>\n",
       "      <td>7.35</td>\n",
       "      <td>...</td>\n",
       "      <td>Berlin</td>\n",
       "      <td>Weißensee_Weißensee</td>\n",
       "      <td>Suchen Sie eine 2-Zimmerwohnung in Weißensee? ...</td>\n",
       "      <td>Zusammengefasst bietet die Wohnung:\\n+ Vollstä...</td>\n",
       "      <td>68.00</td>\n",
       "      <td>NaN</td>\n",
       "      <td>NaN</td>\n",
       "      <td>NaN</td>\n",
       "      <td>NaN</td>\n",
       "      <td>Oct19</td>\n",
       "    </tr>\n",
       "    <tr>\n",
       "      <th>2</th>\n",
       "      <td>77</td>\n",
       "      <td>Berlin</td>\n",
       "      <td>150.00</td>\n",
       "      <td>floor_heating</td>\n",
       "      <td>ONE_YEAR_FREE</td>\n",
       "      <td>NaN</td>\n",
       "      <td>True</td>\n",
       "      <td>True</td>\n",
       "      <td>15</td>\n",
       "      <td>6.60</td>\n",
       "      <td>...</td>\n",
       "      <td>Berlin</td>\n",
       "      <td>Mitte_Mitte</td>\n",
       "      <td>Dieses luxuriöse Neubauquartier direkt am Luis...</td>\n",
       "      <td>• sehr ruhig gelegen, trotz zentraler Lage, da...</td>\n",
       "      <td>NaN</td>\n",
       "      <td>NaN</td>\n",
       "      <td>NaN</td>\n",
       "      <td>NaN</td>\n",
       "      <td>NaN</td>\n",
       "      <td>Oct19</td>\n",
       "    </tr>\n",
       "    <tr>\n",
       "      <th>3</th>\n",
       "      <td>86</td>\n",
       "      <td>Berlin</td>\n",
       "      <td>228.78</td>\n",
       "      <td>floor_heating</td>\n",
       "      <td>NaN</td>\n",
       "      <td>NaN</td>\n",
       "      <td>False</td>\n",
       "      <td>True</td>\n",
       "      <td>2</td>\n",
       "      <td>8.63</td>\n",
       "      <td>...</td>\n",
       "      <td>Berlin</td>\n",
       "      <td>Kreuzberg_Kreuzberg</td>\n",
       "      <td>Bei dieser ansprechenden Immobilie handelt es ...</td>\n",
       "      <td>Balkon und 10m Terasse</td>\n",
       "      <td>NaN</td>\n",
       "      <td>NaN</td>\n",
       "      <td>NaN</td>\n",
       "      <td>NaN</td>\n",
       "      <td>NaN</td>\n",
       "      <td>Oct19</td>\n",
       "    </tr>\n",
       "    <tr>\n",
       "      <th>4</th>\n",
       "      <td>87</td>\n",
       "      <td>Berlin</td>\n",
       "      <td>147.08</td>\n",
       "      <td>district_heating</td>\n",
       "      <td>ONE_YEAR_FREE</td>\n",
       "      <td>NaN</td>\n",
       "      <td>True</td>\n",
       "      <td>True</td>\n",
       "      <td>9</td>\n",
       "      <td>7.56</td>\n",
       "      <td>...</td>\n",
       "      <td>Berlin</td>\n",
       "      <td>Tiergarten_Tiergarten</td>\n",
       "      <td>In the \"\"Wasserstadt - Mitte\"\" you can expect ...</td>\n",
       "      <td>Your spacious ground floor apartment is equipp...</td>\n",
       "      <td>73.54</td>\n",
       "      <td>B</td>\n",
       "      <td>2019.0</td>\n",
       "      <td>NaN</td>\n",
       "      <td>NaN</td>\n",
       "      <td>Feb20</td>\n",
       "    </tr>\n",
       "    <tr>\n",
       "      <th>...</th>\n",
       "      <td>...</td>\n",
       "      <td>...</td>\n",
       "      <td>...</td>\n",
       "      <td>...</td>\n",
       "      <td>...</td>\n",
       "      <td>...</td>\n",
       "      <td>...</td>\n",
       "      <td>...</td>\n",
       "      <td>...</td>\n",
       "      <td>...</td>\n",
       "      <td>...</td>\n",
       "      <td>...</td>\n",
       "      <td>...</td>\n",
       "      <td>...</td>\n",
       "      <td>...</td>\n",
       "      <td>...</td>\n",
       "      <td>...</td>\n",
       "      <td>...</td>\n",
       "      <td>...</td>\n",
       "      <td>...</td>\n",
       "      <td>...</td>\n",
       "    </tr>\n",
       "    <tr>\n",
       "      <th>10401</th>\n",
       "      <td>268716</td>\n",
       "      <td>Berlin</td>\n",
       "      <td>155.00</td>\n",
       "      <td>central_heating</td>\n",
       "      <td>ONE_YEAR_FREE</td>\n",
       "      <td>NaN</td>\n",
       "      <td>False</td>\n",
       "      <td>False</td>\n",
       "      <td>9</td>\n",
       "      <td>6.90</td>\n",
       "      <td>...</td>\n",
       "      <td>Berlin</td>\n",
       "      <td>Friedrichshagen_Köpenick</td>\n",
       "      <td>1-Zimmer-Wohnung, DG links\\n\\n\\nGröße: 57 m²  ...</td>\n",
       "      <td>gefliestes Duschbad, wandhängendes  WC,\\nEinba...</td>\n",
       "      <td>30.00</td>\n",
       "      <td>NaN</td>\n",
       "      <td>NaN</td>\n",
       "      <td>NaN</td>\n",
       "      <td>NaN</td>\n",
       "      <td>May19</td>\n",
       "    </tr>\n",
       "    <tr>\n",
       "      <th>10402</th>\n",
       "      <td>268733</td>\n",
       "      <td>Berlin</td>\n",
       "      <td>100.00</td>\n",
       "      <td>self_contained_central_heating</td>\n",
       "      <td>ONE_YEAR_FREE</td>\n",
       "      <td>NaN</td>\n",
       "      <td>False</td>\n",
       "      <td>False</td>\n",
       "      <td>10</td>\n",
       "      <td>7.59</td>\n",
       "      <td>...</td>\n",
       "      <td>Berlin</td>\n",
       "      <td>Spandau_Spandau</td>\n",
       "      <td>Extras:\\n- Treppenhausreinigung\\n- Hausmeister...</td>\n",
       "      <td>Allgemein:\\n- Kabel-TV, Grundversorgung\\n- Vor...</td>\n",
       "      <td>NaN</td>\n",
       "      <td>NaN</td>\n",
       "      <td>NaN</td>\n",
       "      <td>90.76</td>\n",
       "      <td>0.1985</td>\n",
       "      <td>Sep18</td>\n",
       "    </tr>\n",
       "    <tr>\n",
       "      <th>10403</th>\n",
       "      <td>268746</td>\n",
       "      <td>Berlin</td>\n",
       "      <td>200.00</td>\n",
       "      <td>district_heating</td>\n",
       "      <td>ONE_YEAR_FREE</td>\n",
       "      <td>NaN</td>\n",
       "      <td>False</td>\n",
       "      <td>True</td>\n",
       "      <td>16</td>\n",
       "      <td>8.45</td>\n",
       "      <td>...</td>\n",
       "      <td>Berlin</td>\n",
       "      <td>Waidmannslust_Reinickendorf</td>\n",
       "      <td>Die hier angebotene Mietwohnung befindet sich ...</td>\n",
       "      <td>- Erstbezug\\n- 3,5 Zimmer\\n- modernisiertes, g...</td>\n",
       "      <td>130.00</td>\n",
       "      <td>F</td>\n",
       "      <td>2019.0</td>\n",
       "      <td>NaN</td>\n",
       "      <td>NaN</td>\n",
       "      <td>May19</td>\n",
       "    </tr>\n",
       "    <tr>\n",
       "      <th>10404</th>\n",
       "      <td>268758</td>\n",
       "      <td>Berlin</td>\n",
       "      <td>100.00</td>\n",
       "      <td>district_heating</td>\n",
       "      <td>ONE_YEAR_FREE</td>\n",
       "      <td>NaN</td>\n",
       "      <td>True</td>\n",
       "      <td>False</td>\n",
       "      <td>13</td>\n",
       "      <td>6.14</td>\n",
       "      <td>...</td>\n",
       "      <td>Berlin</td>\n",
       "      <td>Charlottenburg_Charlottenburg</td>\n",
       "      <td>Bei dem Objekt handelt es sich um einen energi...</td>\n",
       "      <td>Das Apartment ist voll möbliert, mit einer vol...</td>\n",
       "      <td>NaN</td>\n",
       "      <td>NaN</td>\n",
       "      <td>2019.0</td>\n",
       "      <td>NaN</td>\n",
       "      <td>NaN</td>\n",
       "      <td>Feb20</td>\n",
       "    </tr>\n",
       "    <tr>\n",
       "      <th>10405</th>\n",
       "      <td>268829</td>\n",
       "      <td>Berlin</td>\n",
       "      <td>250.94</td>\n",
       "      <td>district_heating</td>\n",
       "      <td>ONE_YEAR_FREE</td>\n",
       "      <td>NaN</td>\n",
       "      <td>False</td>\n",
       "      <td>True</td>\n",
       "      <td>3</td>\n",
       "      <td>7.59</td>\n",
       "      <td>...</td>\n",
       "      <td>Berlin</td>\n",
       "      <td>Spandau_Spandau</td>\n",
       "      <td>Das \"Falkenhagener Feld\" ist ein abwechslungsr...</td>\n",
       "      <td>Hier erwartet Sie eine 3-Zimmer-Wohnung mit ei...</td>\n",
       "      <td>80.09</td>\n",
       "      <td>NaN</td>\n",
       "      <td>NaN</td>\n",
       "      <td>90.76</td>\n",
       "      <td>0.1985</td>\n",
       "      <td>Sep18</td>\n",
       "    </tr>\n",
       "  </tbody>\n",
       "</table>\n",
       "<p>10406 rows × 50 columns</p>\n",
       "</div>"
      ],
      "text/plain": [
       "        index  regio1  serviceCharge                     heatingType  \\\n",
       "0          45  Berlin         320.00                 central_heating   \n",
       "1          61  Berlin          79.00                 central_heating   \n",
       "2          77  Berlin         150.00                   floor_heating   \n",
       "3          86  Berlin         228.78                   floor_heating   \n",
       "4          87  Berlin         147.08                district_heating   \n",
       "...       ...     ...            ...                             ...   \n",
       "10401  268716  Berlin         155.00                 central_heating   \n",
       "10402  268733  Berlin         100.00  self_contained_central_heating   \n",
       "10403  268746  Berlin         200.00                district_heating   \n",
       "10404  268758  Berlin         100.00                district_heating   \n",
       "10405  268829  Berlin         250.94                district_heating   \n",
       "\n",
       "      telekomTvOffer  telekomHybridUploadSpeed  newlyConst  balcony  \\\n",
       "0                NaN                       NaN       False     True   \n",
       "1      ONE_YEAR_FREE                       NaN       False    False   \n",
       "2      ONE_YEAR_FREE                       NaN        True     True   \n",
       "3                NaN                       NaN       False     True   \n",
       "4      ONE_YEAR_FREE                       NaN        True     True   \n",
       "...              ...                       ...         ...      ...   \n",
       "10401  ONE_YEAR_FREE                       NaN       False    False   \n",
       "10402  ONE_YEAR_FREE                       NaN       False    False   \n",
       "10403  ONE_YEAR_FREE                       NaN       False     True   \n",
       "10404  ONE_YEAR_FREE                       NaN        True    False   \n",
       "10405  ONE_YEAR_FREE                       NaN       False     True   \n",
       "\n",
       "       picturecount  pricetrend  ...  regio2                         regio3  \\\n",
       "0                10        4.99  ...  Berlin                Staaken_Spandau   \n",
       "1                17        7.35  ...  Berlin            Weißensee_Weißensee   \n",
       "2                15        6.60  ...  Berlin                    Mitte_Mitte   \n",
       "3                 2        8.63  ...  Berlin            Kreuzberg_Kreuzberg   \n",
       "4                 9        7.56  ...  Berlin          Tiergarten_Tiergarten   \n",
       "...             ...         ...  ...     ...                            ...   \n",
       "10401             9        6.90  ...  Berlin       Friedrichshagen_Köpenick   \n",
       "10402            10        7.59  ...  Berlin                Spandau_Spandau   \n",
       "10403            16        8.45  ...  Berlin    Waidmannslust_Reinickendorf   \n",
       "10404            13        6.14  ...  Berlin  Charlottenburg_Charlottenburg   \n",
       "10405             3        7.59  ...  Berlin                Spandau_Spandau   \n",
       "\n",
       "                                             description  \\\n",
       "0      Diese attraktive EG-Wohnung kann ab sofort bez...   \n",
       "1      Suchen Sie eine 2-Zimmerwohnung in Weißensee? ...   \n",
       "2      Dieses luxuriöse Neubauquartier direkt am Luis...   \n",
       "3      Bei dieser ansprechenden Immobilie handelt es ...   \n",
       "4      In the \"\"Wasserstadt - Mitte\"\" you can expect ...   \n",
       "...                                                  ...   \n",
       "10401  1-Zimmer-Wohnung, DG links\\n\\n\\nGröße: 57 m²  ...   \n",
       "10402  Extras:\\n- Treppenhausreinigung\\n- Hausmeister...   \n",
       "10403  Die hier angebotene Mietwohnung befindet sich ...   \n",
       "10404  Bei dem Objekt handelt es sich um einen energi...   \n",
       "10405  Das \"Falkenhagener Feld\" ist ein abwechslungsr...   \n",
       "\n",
       "                                              facilities  heatingCosts  \\\n",
       "0                                                    NaN           NaN   \n",
       "1      Zusammengefasst bietet die Wohnung:\\n+ Vollstä...         68.00   \n",
       "2      • sehr ruhig gelegen, trotz zentraler Lage, da...           NaN   \n",
       "3                                 Balkon und 10m Terasse           NaN   \n",
       "4      Your spacious ground floor apartment is equipp...         73.54   \n",
       "...                                                  ...           ...   \n",
       "10401  gefliestes Duschbad, wandhängendes  WC,\\nEinba...         30.00   \n",
       "10402  Allgemein:\\n- Kabel-TV, Grundversorgung\\n- Vor...           NaN   \n",
       "10403  - Erstbezug\\n- 3,5 Zimmer\\n- modernisiertes, g...        130.00   \n",
       "10404  Das Apartment ist voll möbliert, mit einer vol...           NaN   \n",
       "10405  Hier erwartet Sie eine 3-Zimmer-Wohnung mit ei...         80.09   \n",
       "\n",
       "      energyEfficiencyClass  lastRefurbish electricityBasePrice  \\\n",
       "0                       NaN            NaN                  NaN   \n",
       "1                       NaN            NaN                  NaN   \n",
       "2                       NaN            NaN                  NaN   \n",
       "3                       NaN            NaN                  NaN   \n",
       "4                         B         2019.0                  NaN   \n",
       "...                     ...            ...                  ...   \n",
       "10401                   NaN            NaN                  NaN   \n",
       "10402                   NaN            NaN                90.76   \n",
       "10403                     F         2019.0                  NaN   \n",
       "10404                   NaN         2019.0                  NaN   \n",
       "10405                   NaN            NaN                90.76   \n",
       "\n",
       "       electricityKwhPrice   date  \n",
       "0                      NaN  Feb20  \n",
       "1                      NaN  Oct19  \n",
       "2                      NaN  Oct19  \n",
       "3                      NaN  Oct19  \n",
       "4                      NaN  Feb20  \n",
       "...                    ...    ...  \n",
       "10401                  NaN  May19  \n",
       "10402               0.1985  Sep18  \n",
       "10403                  NaN  May19  \n",
       "10404                  NaN  Feb20  \n",
       "10405               0.1985  Sep18  \n",
       "\n",
       "[10406 rows x 50 columns]"
      ]
     },
     "execution_count": 13,
     "metadata": {},
     "output_type": "execute_result"
    }
   ],
   "source": [
    "#drop duplicates\n",
    "df_berlin.drop_duplicates().reset_index()"
   ]
  },
  {
   "cell_type": "markdown",
   "id": "b4e324d5",
   "metadata": {},
   "source": [
    "# Handling missing data (Berlin dataset)"
   ]
  },
  {
   "cell_type": "markdown",
   "id": "b11bef42",
   "metadata": {},
   "source": [
    "## Dropping columns/features"
   ]
  },
  {
   "cell_type": "code",
   "execution_count": 14,
   "id": "2701897b",
   "metadata": {
    "scrolled": true
   },
   "outputs": [
    {
     "data": {
      "text/plain": [
       "(10406, 46)"
      ]
     },
     "execution_count": 14,
     "metadata": {},
     "output_type": "execute_result"
    }
   ],
   "source": [
    "# >80%  missing value is too high, let's drop these feature (but not 'noParkSpaces')\n",
    "\n",
    "columns_to_drop = ['telekomHybridUploadSpeed','electricityKwhPrice','electricityBasePrice']\n",
    "df_berlin_cleaned = df_berlin.drop(columns=columns_to_drop)\n",
    "df_berlin_cleaned.shape"
   ]
  },
  {
   "cell_type": "code",
   "execution_count": 15,
   "id": "03a5a6eb",
   "metadata": {},
   "outputs": [
    {
     "data": {
      "text/plain": [
       "Index(['regio1', 'serviceCharge', 'heatingType', 'telekomTvOffer',\n",
       "       'newlyConst', 'balcony', 'picturecount', 'pricetrend',\n",
       "       'telekomUploadSpeed', 'totalRent', 'yearConstructed', 'scoutId',\n",
       "       'noParkSpaces', 'firingTypes', 'hasKitchen', 'geo_bln', 'cellar',\n",
       "       'yearConstructedRange', 'baseRent', 'houseNumber', 'livingSpace',\n",
       "       'geo_krs', 'condition', 'interiorQual', 'petsAllowed', 'street',\n",
       "       'streetPlain', 'lift', 'baseRentRange', 'typeOfFlat', 'geo_plz',\n",
       "       'noRooms', 'thermalChar', 'floor', 'numberOfFloors', 'noRoomsRange',\n",
       "       'garden', 'livingSpaceRange', 'regio2', 'regio3', 'description',\n",
       "       'facilities', 'heatingCosts', 'energyEfficiencyClass', 'lastRefurbish',\n",
       "       'date'],\n",
       "      dtype='object')"
      ]
     },
     "execution_count": 15,
     "metadata": {},
     "output_type": "execute_result"
    }
   ],
   "source": [
    "df_berlin_cleaned.columns"
   ]
  },
  {
   "cell_type": "markdown",
   "id": "1fa3736f",
   "metadata": {},
   "source": [
    "\n",
    "**In the following additional columns will be dropped off. This is based on the columns description on:** https://www.kaggle.com/datasets/corrieaar/apartment-rental-offers-in-germany?select=immo_data.csv\n",
    "\n",
    "- **telekomTvOffer**: Is payed TV included if so which offer\n",
    "- **picturecount**: how many pictures were uploaded to the listing\n",
    "- **pricetrend**: price trend as calculated by Immoscout\n",
    "- **firingTypes**: Team decided to drop\n",
    "- **geo_bln**: bundesland (state), same as regio1 (Berlin)\n",
    "- **geo_krs**: district, above ZIP code (unique value is Berlin, so same as regio1)\n",
    "- **street**: street name (Duplicated with streetPlain, which has clearer formating)\n",
    "- **interiorQual**: Team decided to drop\n",
    "- **baseRentRange**: binned base rent, 1 to 9\n",
    "- **thermalChar**: Team decided to drop\n",
    "- **noRoomsRange**: binned number of rooms, 1 to 5\n",
    "- **livingSpaceRange**: binned living space, 1 to 7\n",
    "- **yearConstructedRange**: binned\n",
    "- **regio2**: District or Kreis, same as geo krs (unique value is Berlin, so same as regio1)\n",
    "- **energyEfficiencyClass**: Team decided to drop, since we have \n",
    "- **lastRefurbish**: Team decided to drop, since have yearConstructed & condition AND around 70% of the properties are missing value\n",
    "- **date**: time of scraping\n",
    "\n",
    "\n"
   ]
  },
  {
   "cell_type": "code",
   "execution_count": 16,
   "id": "d093ba04",
   "metadata": {},
   "outputs": [
    {
     "data": {
      "text/plain": [
       "array([ 3.,  5.,  7.,  6.,  2., nan,  4., 14., 11.,  8., 12.,  0.,  9.,\n",
       "       10.,  1., 16., 17., 18., 15., 21., 13., 19., 20., 25., 22., 27.])"
      ]
     },
     "execution_count": 16,
     "metadata": {},
     "output_type": "execute_result"
    }
   ],
   "source": [
    "df_berlin_cleaned['numberOfFloors'].unique()"
   ]
  },
  {
   "cell_type": "code",
   "execution_count": 17,
   "id": "2c52531e",
   "metadata": {},
   "outputs": [
    {
     "data": {
      "text/plain": [
       "(10406, 29)"
      ]
     },
     "execution_count": 17,
     "metadata": {},
     "output_type": "execute_result"
    }
   ],
   "source": [
    "#Dropping off columns which are not relevant for our project based on column description\n",
    "\n",
    "columns_to_drop_2 = ['telekomTvOffer','picturecount','pricetrend','firingTypes','geo_bln','geo_krs','street'\\\n",
    "                     ,'interiorQual','baseRentRange','thermalChar','noRoomsRange','yearConstructedRange','livingSpaceRange','regio2','energyEfficiencyClass','lastRefurbish','date']\n",
    "df_berlin_cleaned = df_berlin_cleaned.drop(columns=columns_to_drop_2)\n",
    "df_berlin_cleaned.shape"
   ]
  },
  {
   "cell_type": "markdown",
   "id": "fd67d6a7",
   "metadata": {},
   "source": [
    "## Dropping rows/properties"
   ]
  },
  {
   "cell_type": "code",
   "execution_count": 18,
   "id": "48ccea8e",
   "metadata": {
    "scrolled": true
   },
   "outputs": [
    {
     "data": {
      "text/plain": [
       "noParkSpaces          0.806554\n",
       "petsAllowed           0.464924\n",
       "heatingCosts          0.458293\n",
       "numberOfFloors        0.300500\n",
       "condition             0.217951\n",
       "streetPlain           0.146742\n",
       "houseNumber           0.146742\n",
       "heatingType           0.141361\n",
       "yearConstructed       0.136940\n",
       "telekomUploadSpeed    0.135787\n",
       "facilities            0.127138\n",
       "floor                 0.105708\n",
       "typeOfFlat            0.077263\n",
       "description           0.063809\n",
       "totalRent             0.063617\n",
       "serviceCharge         0.022583\n",
       "geo_plz               0.000000\n",
       "regio3                0.000000\n",
       "noRooms               0.000000\n",
       "garden                0.000000\n",
       "regio1                0.000000\n",
       "lift                  0.000000\n",
       "baseRent              0.000000\n",
       "cellar                0.000000\n",
       "hasKitchen            0.000000\n",
       "scoutId               0.000000\n",
       "balcony               0.000000\n",
       "newlyConst            0.000000\n",
       "livingSpace           0.000000\n",
       "dtype: float64"
      ]
     },
     "execution_count": 18,
     "metadata": {},
     "output_type": "execute_result"
    }
   ],
   "source": [
    "#Overview of remaining features and its % missing value\n",
    "\n",
    "df_berlin_cleaned.isnull().sum().sort_values(ascending=False)/len(df_berlin_cleaned)"
   ]
  },
  {
   "cell_type": "markdown",
   "id": "9ea2e4f4",
   "metadata": {},
   "source": [
    "### Drop properties with missing address\n",
    "\n",
    "**1527 Properties (15%) are missing street information**. Therefore, we should drop these properties.\n",
    "\n",
    "Berlin total = 10.406 properties \\\n",
    "Berlin missing address = 1.527 properties\\\n",
    "Berlin with address = 8.879 properties"
   ]
  },
  {
   "cell_type": "code",
   "execution_count": 19,
   "id": "63c35c83",
   "metadata": {},
   "outputs": [
    {
     "data": {
      "text/plain": [
       "1527"
      ]
     },
     "execution_count": 19,
     "metadata": {},
     "output_type": "execute_result"
    }
   ],
   "source": [
    "#number of properties missing street info\n",
    "\n",
    "df_berlin_cleaned['streetPlain'].isnull().sum()"
   ]
  },
  {
   "cell_type": "code",
   "execution_count": 20,
   "id": "31231d98",
   "metadata": {
    "scrolled": true
   },
   "outputs": [
    {
     "data": {
      "text/html": [
       "<div>\n",
       "<style scoped>\n",
       "    .dataframe tbody tr th:only-of-type {\n",
       "        vertical-align: middle;\n",
       "    }\n",
       "\n",
       "    .dataframe tbody tr th {\n",
       "        vertical-align: top;\n",
       "    }\n",
       "\n",
       "    .dataframe thead th {\n",
       "        text-align: right;\n",
       "    }\n",
       "</style>\n",
       "<table border=\"1\" class=\"dataframe\">\n",
       "  <thead>\n",
       "    <tr style=\"text-align: right;\">\n",
       "      <th></th>\n",
       "      <th>regio1</th>\n",
       "      <th>serviceCharge</th>\n",
       "      <th>heatingType</th>\n",
       "      <th>newlyConst</th>\n",
       "      <th>balcony</th>\n",
       "      <th>telekomUploadSpeed</th>\n",
       "      <th>totalRent</th>\n",
       "      <th>yearConstructed</th>\n",
       "      <th>scoutId</th>\n",
       "      <th>noParkSpaces</th>\n",
       "      <th>...</th>\n",
       "      <th>typeOfFlat</th>\n",
       "      <th>geo_plz</th>\n",
       "      <th>noRooms</th>\n",
       "      <th>floor</th>\n",
       "      <th>numberOfFloors</th>\n",
       "      <th>garden</th>\n",
       "      <th>regio3</th>\n",
       "      <th>description</th>\n",
       "      <th>facilities</th>\n",
       "      <th>heatingCosts</th>\n",
       "    </tr>\n",
       "  </thead>\n",
       "  <tbody>\n",
       "    <tr>\n",
       "      <th>286</th>\n",
       "      <td>Berlin</td>\n",
       "      <td>215.00</td>\n",
       "      <td>central_heating</td>\n",
       "      <td>False</td>\n",
       "      <td>True</td>\n",
       "      <td>10.0</td>\n",
       "      <td>1125.00</td>\n",
       "      <td>1890.0</td>\n",
       "      <td>110747740</td>\n",
       "      <td>NaN</td>\n",
       "      <td>...</td>\n",
       "      <td>apartment</td>\n",
       "      <td>13127</td>\n",
       "      <td>3.5</td>\n",
       "      <td>1.0</td>\n",
       "      <td>2.0</td>\n",
       "      <td>False</td>\n",
       "      <td>Französisch_Buchholz_Pankow</td>\n",
       "      <td>Das Haus befindet sich an einer Hauptstraße, d...</td>\n",
       "      <td>Die Wohnung befindet sich in einem kleinen Meh...</td>\n",
       "      <td>118.0</td>\n",
       "    </tr>\n",
       "    <tr>\n",
       "      <th>300</th>\n",
       "      <td>Berlin</td>\n",
       "      <td>450.00</td>\n",
       "      <td>floor_heating</td>\n",
       "      <td>True</td>\n",
       "      <td>True</td>\n",
       "      <td>40.0</td>\n",
       "      <td>2830.00</td>\n",
       "      <td>2018.0</td>\n",
       "      <td>111780700</td>\n",
       "      <td>NaN</td>\n",
       "      <td>...</td>\n",
       "      <td>penthouse</td>\n",
       "      <td>10589</td>\n",
       "      <td>3.0</td>\n",
       "      <td>6.0</td>\n",
       "      <td>6.0</td>\n",
       "      <td>False</td>\n",
       "      <td>Charlottenburg_Charlottenburg</td>\n",
       "      <td>Die hier angebotene, exklusive Penthouse ist T...</td>\n",
       "      <td>•\\tGroßzügiger, lichtdurchfluteter Wohnbereich...</td>\n",
       "      <td>NaN</td>\n",
       "    </tr>\n",
       "    <tr>\n",
       "      <th>547</th>\n",
       "      <td>Berlin</td>\n",
       "      <td>250.00</td>\n",
       "      <td>central_heating</td>\n",
       "      <td>False</td>\n",
       "      <td>True</td>\n",
       "      <td>40.0</td>\n",
       "      <td>1125.00</td>\n",
       "      <td>1990.0</td>\n",
       "      <td>105407548</td>\n",
       "      <td>1.0</td>\n",
       "      <td>...</td>\n",
       "      <td>apartment</td>\n",
       "      <td>14052</td>\n",
       "      <td>2.0</td>\n",
       "      <td>1.0</td>\n",
       "      <td>3.0</td>\n",
       "      <td>True</td>\n",
       "      <td>Charlottenburg_Charlottenburg</td>\n",
       "      <td>Das Wohnhaus - erbaut etwa 1990 - liegt in Cha...</td>\n",
       "      <td>Die Wohnräume und die Diele verfügen über eine...</td>\n",
       "      <td>90.0</td>\n",
       "    </tr>\n",
       "    <tr>\n",
       "      <th>883</th>\n",
       "      <td>Berlin</td>\n",
       "      <td>155.00</td>\n",
       "      <td>central_heating</td>\n",
       "      <td>False</td>\n",
       "      <td>True</td>\n",
       "      <td>40.0</td>\n",
       "      <td>1766.00</td>\n",
       "      <td>1914.0</td>\n",
       "      <td>115176177</td>\n",
       "      <td>NaN</td>\n",
       "      <td>...</td>\n",
       "      <td>roof_storey</td>\n",
       "      <td>10245</td>\n",
       "      <td>3.0</td>\n",
       "      <td>5.0</td>\n",
       "      <td>5.0</td>\n",
       "      <td>False</td>\n",
       "      <td>Friedrichshain_Friedrichshain</td>\n",
       "      <td>Suchen Sie eine 3-Zimmerwohnung in Friedrichsh...</td>\n",
       "      <td>NaN</td>\n",
       "      <td>111.0</td>\n",
       "    </tr>\n",
       "    <tr>\n",
       "      <th>1035</th>\n",
       "      <td>Berlin</td>\n",
       "      <td>225.00</td>\n",
       "      <td>central_heating</td>\n",
       "      <td>False</td>\n",
       "      <td>False</td>\n",
       "      <td>40.0</td>\n",
       "      <td>1215.00</td>\n",
       "      <td>1932.0</td>\n",
       "      <td>111328308</td>\n",
       "      <td>NaN</td>\n",
       "      <td>...</td>\n",
       "      <td>apartment</td>\n",
       "      <td>12527</td>\n",
       "      <td>3.0</td>\n",
       "      <td>2.0</td>\n",
       "      <td>3.0</td>\n",
       "      <td>False</td>\n",
       "      <td>Schmöckwitz_Köpenick</td>\n",
       "      <td>ERSTBEZUG NACH SANIERUNG!\\n\\nWir bieten Ihnen ...</td>\n",
       "      <td>- Erstbezug nach Sanierung\\n- hochwertiges Ech...</td>\n",
       "      <td>NaN</td>\n",
       "    </tr>\n",
       "    <tr>\n",
       "      <th>...</th>\n",
       "      <td>...</td>\n",
       "      <td>...</td>\n",
       "      <td>...</td>\n",
       "      <td>...</td>\n",
       "      <td>...</td>\n",
       "      <td>...</td>\n",
       "      <td>...</td>\n",
       "      <td>...</td>\n",
       "      <td>...</td>\n",
       "      <td>...</td>\n",
       "      <td>...</td>\n",
       "      <td>...</td>\n",
       "      <td>...</td>\n",
       "      <td>...</td>\n",
       "      <td>...</td>\n",
       "      <td>...</td>\n",
       "      <td>...</td>\n",
       "      <td>...</td>\n",
       "      <td>...</td>\n",
       "      <td>...</td>\n",
       "      <td>...</td>\n",
       "    </tr>\n",
       "    <tr>\n",
       "      <th>268086</th>\n",
       "      <td>Berlin</td>\n",
       "      <td>231.55</td>\n",
       "      <td>central_heating</td>\n",
       "      <td>False</td>\n",
       "      <td>True</td>\n",
       "      <td>40.0</td>\n",
       "      <td>794.35</td>\n",
       "      <td>1974.0</td>\n",
       "      <td>64925144</td>\n",
       "      <td>NaN</td>\n",
       "      <td>...</td>\n",
       "      <td>raised_ground_floor</td>\n",
       "      <td>13589</td>\n",
       "      <td>2.0</td>\n",
       "      <td>0.0</td>\n",
       "      <td>1.0</td>\n",
       "      <td>False</td>\n",
       "      <td>Spandau_Spandau</td>\n",
       "      <td>Freistehendes Mehrfamilienhaus in ruhiger Seit...</td>\n",
       "      <td>Das Wohnzimmer ist mit Parkettboden ausgestatt...</td>\n",
       "      <td>NaN</td>\n",
       "    </tr>\n",
       "    <tr>\n",
       "      <th>268321</th>\n",
       "      <td>Berlin</td>\n",
       "      <td>150.00</td>\n",
       "      <td>central_heating</td>\n",
       "      <td>False</td>\n",
       "      <td>True</td>\n",
       "      <td>40.0</td>\n",
       "      <td>1795.00</td>\n",
       "      <td>NaN</td>\n",
       "      <td>114135846</td>\n",
       "      <td>1.0</td>\n",
       "      <td>...</td>\n",
       "      <td>roof_storey</td>\n",
       "      <td>10555</td>\n",
       "      <td>3.0</td>\n",
       "      <td>5.0</td>\n",
       "      <td>5.0</td>\n",
       "      <td>False</td>\n",
       "      <td>Tiergarten_Tiergarten</td>\n",
       "      <td>Das imposante Wohn-und Geschäftsgebäude aus de...</td>\n",
       "      <td>Eine schöne Dachterrasse mit fast 10 m² realer...</td>\n",
       "      <td>100.0</td>\n",
       "    </tr>\n",
       "    <tr>\n",
       "      <th>268470</th>\n",
       "      <td>Berlin</td>\n",
       "      <td>130.00</td>\n",
       "      <td>self_contained_central_heating</td>\n",
       "      <td>False</td>\n",
       "      <td>True</td>\n",
       "      <td>40.0</td>\n",
       "      <td>2895.00</td>\n",
       "      <td>1915.0</td>\n",
       "      <td>64618855</td>\n",
       "      <td>2.0</td>\n",
       "      <td>...</td>\n",
       "      <td>apartment</td>\n",
       "      <td>10119</td>\n",
       "      <td>4.5</td>\n",
       "      <td>2.0</td>\n",
       "      <td>5.0</td>\n",
       "      <td>False</td>\n",
       "      <td>Prenzlauer_Berg_Prenzlauer_Berg</td>\n",
       "      <td>top sanierter Altbau, großzügige Innenhofsitua...</td>\n",
       "      <td>Der Fußboden ist mit einem Echtholz-Stabeichen...</td>\n",
       "      <td>70.0</td>\n",
       "    </tr>\n",
       "    <tr>\n",
       "      <th>268491</th>\n",
       "      <td>Berlin</td>\n",
       "      <td>390.00</td>\n",
       "      <td>oil_heating</td>\n",
       "      <td>False</td>\n",
       "      <td>True</td>\n",
       "      <td>40.0</td>\n",
       "      <td>2600.00</td>\n",
       "      <td>1898.0</td>\n",
       "      <td>115231273</td>\n",
       "      <td>NaN</td>\n",
       "      <td>...</td>\n",
       "      <td>apartment</td>\n",
       "      <td>14193</td>\n",
       "      <td>3.0</td>\n",
       "      <td>NaN</td>\n",
       "      <td>NaN</td>\n",
       "      <td>False</td>\n",
       "      <td>Grunewald_Wilmersdorf</td>\n",
       "      <td>• Die gemütliche, geschmackvoll möblierte, woh...</td>\n",
       "      <td>• Öl-Zentralheizung mit zentraler Warmwasserve...</td>\n",
       "      <td>NaN</td>\n",
       "    </tr>\n",
       "    <tr>\n",
       "      <th>268716</th>\n",
       "      <td>Berlin</td>\n",
       "      <td>155.00</td>\n",
       "      <td>central_heating</td>\n",
       "      <td>False</td>\n",
       "      <td>False</td>\n",
       "      <td>40.0</td>\n",
       "      <td>630.00</td>\n",
       "      <td>1996.0</td>\n",
       "      <td>111308436</td>\n",
       "      <td>1.0</td>\n",
       "      <td>...</td>\n",
       "      <td>roof_storey</td>\n",
       "      <td>12587</td>\n",
       "      <td>1.0</td>\n",
       "      <td>NaN</td>\n",
       "      <td>3.0</td>\n",
       "      <td>False</td>\n",
       "      <td>Friedrichshagen_Köpenick</td>\n",
       "      <td>1-Zimmer-Wohnung, DG links\\n\\n\\nGröße: 57 m²  ...</td>\n",
       "      <td>gefliestes Duschbad, wandhängendes  WC,\\nEinba...</td>\n",
       "      <td>30.0</td>\n",
       "    </tr>\n",
       "  </tbody>\n",
       "</table>\n",
       "<p>1527 rows × 29 columns</p>\n",
       "</div>"
      ],
      "text/plain": [
       "        regio1  serviceCharge                     heatingType  newlyConst  \\\n",
       "286     Berlin         215.00                 central_heating       False   \n",
       "300     Berlin         450.00                   floor_heating        True   \n",
       "547     Berlin         250.00                 central_heating       False   \n",
       "883     Berlin         155.00                 central_heating       False   \n",
       "1035    Berlin         225.00                 central_heating       False   \n",
       "...        ...            ...                             ...         ...   \n",
       "268086  Berlin         231.55                 central_heating       False   \n",
       "268321  Berlin         150.00                 central_heating       False   \n",
       "268470  Berlin         130.00  self_contained_central_heating       False   \n",
       "268491  Berlin         390.00                     oil_heating       False   \n",
       "268716  Berlin         155.00                 central_heating       False   \n",
       "\n",
       "        balcony  telekomUploadSpeed  totalRent  yearConstructed    scoutId  \\\n",
       "286        True                10.0    1125.00           1890.0  110747740   \n",
       "300        True                40.0    2830.00           2018.0  111780700   \n",
       "547        True                40.0    1125.00           1990.0  105407548   \n",
       "883        True                40.0    1766.00           1914.0  115176177   \n",
       "1035      False                40.0    1215.00           1932.0  111328308   \n",
       "...         ...                 ...        ...              ...        ...   \n",
       "268086     True                40.0     794.35           1974.0   64925144   \n",
       "268321     True                40.0    1795.00              NaN  114135846   \n",
       "268470     True                40.0    2895.00           1915.0   64618855   \n",
       "268491     True                40.0    2600.00           1898.0  115231273   \n",
       "268716    False                40.0     630.00           1996.0  111308436   \n",
       "\n",
       "        noParkSpaces  ...           typeOfFlat  geo_plz  noRooms floor  \\\n",
       "286              NaN  ...            apartment    13127      3.5   1.0   \n",
       "300              NaN  ...            penthouse    10589      3.0   6.0   \n",
       "547              1.0  ...            apartment    14052      2.0   1.0   \n",
       "883              NaN  ...          roof_storey    10245      3.0   5.0   \n",
       "1035             NaN  ...            apartment    12527      3.0   2.0   \n",
       "...              ...  ...                  ...      ...      ...   ...   \n",
       "268086           NaN  ...  raised_ground_floor    13589      2.0   0.0   \n",
       "268321           1.0  ...          roof_storey    10555      3.0   5.0   \n",
       "268470           2.0  ...            apartment    10119      4.5   2.0   \n",
       "268491           NaN  ...            apartment    14193      3.0   NaN   \n",
       "268716           1.0  ...          roof_storey    12587      1.0   NaN   \n",
       "\n",
       "        numberOfFloors garden                           regio3  \\\n",
       "286                2.0  False      Französisch_Buchholz_Pankow   \n",
       "300                6.0  False    Charlottenburg_Charlottenburg   \n",
       "547                3.0   True    Charlottenburg_Charlottenburg   \n",
       "883                5.0  False    Friedrichshain_Friedrichshain   \n",
       "1035               3.0  False             Schmöckwitz_Köpenick   \n",
       "...                ...    ...                              ...   \n",
       "268086             1.0  False                  Spandau_Spandau   \n",
       "268321             5.0  False            Tiergarten_Tiergarten   \n",
       "268470             5.0  False  Prenzlauer_Berg_Prenzlauer_Berg   \n",
       "268491             NaN  False            Grunewald_Wilmersdorf   \n",
       "268716             3.0  False         Friedrichshagen_Köpenick   \n",
       "\n",
       "                                              description  \\\n",
       "286     Das Haus befindet sich an einer Hauptstraße, d...   \n",
       "300     Die hier angebotene, exklusive Penthouse ist T...   \n",
       "547     Das Wohnhaus - erbaut etwa 1990 - liegt in Cha...   \n",
       "883     Suchen Sie eine 3-Zimmerwohnung in Friedrichsh...   \n",
       "1035    ERSTBEZUG NACH SANIERUNG!\\n\\nWir bieten Ihnen ...   \n",
       "...                                                   ...   \n",
       "268086  Freistehendes Mehrfamilienhaus in ruhiger Seit...   \n",
       "268321  Das imposante Wohn-und Geschäftsgebäude aus de...   \n",
       "268470  top sanierter Altbau, großzügige Innenhofsitua...   \n",
       "268491  • Die gemütliche, geschmackvoll möblierte, woh...   \n",
       "268716  1-Zimmer-Wohnung, DG links\\n\\n\\nGröße: 57 m²  ...   \n",
       "\n",
       "                                               facilities heatingCosts  \n",
       "286     Die Wohnung befindet sich in einem kleinen Meh...        118.0  \n",
       "300     •\\tGroßzügiger, lichtdurchfluteter Wohnbereich...          NaN  \n",
       "547     Die Wohnräume und die Diele verfügen über eine...         90.0  \n",
       "883                                                   NaN        111.0  \n",
       "1035    - Erstbezug nach Sanierung\\n- hochwertiges Ech...          NaN  \n",
       "...                                                   ...          ...  \n",
       "268086  Das Wohnzimmer ist mit Parkettboden ausgestatt...          NaN  \n",
       "268321  Eine schöne Dachterrasse mit fast 10 m² realer...        100.0  \n",
       "268470  Der Fußboden ist mit einem Echtholz-Stabeichen...         70.0  \n",
       "268491  • Öl-Zentralheizung mit zentraler Warmwasserve...          NaN  \n",
       "268716  gefliestes Duschbad, wandhängendes  WC,\\nEinba...         30.0  \n",
       "\n",
       "[1527 rows x 29 columns]"
      ]
     },
     "execution_count": 20,
     "metadata": {},
     "output_type": "execute_result"
    }
   ],
   "source": [
    "#list of properties with missing address. We need to drop these!\n",
    "\n",
    "berlin_properties_no_street = df_berlin_cleaned[df_berlin_cleaned['streetPlain'].isnull()] #.value_counts()\n",
    "berlin_properties_no_street"
   ]
  },
  {
   "cell_type": "code",
   "execution_count": 21,
   "id": "2767c33e",
   "metadata": {},
   "outputs": [
    {
     "data": {
      "text/plain": [
       "(8879, 29)"
      ]
     },
     "execution_count": 21,
     "metadata": {},
     "output_type": "execute_result"
    }
   ],
   "source": [
    "#Dropping properties without street info\n",
    "\n",
    "df_berlin_cleaned = df_berlin_cleaned.dropna(subset=['streetPlain'])\n",
    "df_berlin_cleaned.shape"
   ]
  },
  {
   "cell_type": "markdown",
   "id": "4f6cc950",
   "metadata": {},
   "source": [
    " ### Drop properties with missing price???\n",
    " <font color='red'>Around 6% of remaining properties do not have price. Shoud we drop them off???</font> \n",
    " \n",
    "tbd"
   ]
  },
  {
   "cell_type": "code",
   "execution_count": 22,
   "id": "11ce7b35",
   "metadata": {
    "scrolled": true
   },
   "outputs": [
    {
     "data": {
      "text/plain": [
       "noParkSpaces          0.815632\n",
       "petsAllowed           0.468634\n",
       "heatingCosts          0.417051\n",
       "numberOfFloors        0.305552\n",
       "condition             0.211623\n",
       "heatingType           0.144048\n",
       "telekomUploadSpeed    0.138304\n",
       "yearConstructed       0.132785\n",
       "facilities            0.111499\n",
       "floor                 0.095732\n",
       "typeOfFlat            0.073319\n",
       "description           0.066787\n",
       "totalRent             0.057439\n",
       "serviceCharge         0.017457\n",
       "regio3                0.000000\n",
       "garden                0.000000\n",
       "noRooms               0.000000\n",
       "geo_plz               0.000000\n",
       "regio1                0.000000\n",
       "lift                  0.000000\n",
       "streetPlain           0.000000\n",
       "houseNumber           0.000000\n",
       "baseRent              0.000000\n",
       "cellar                0.000000\n",
       "hasKitchen            0.000000\n",
       "scoutId               0.000000\n",
       "balcony               0.000000\n",
       "newlyConst            0.000000\n",
       "livingSpace           0.000000\n",
       "dtype: float64"
      ]
     },
     "execution_count": 22,
     "metadata": {},
     "output_type": "execute_result"
    }
   ],
   "source": [
    "df_berlin_cleaned.isnull().sum().sort_values(ascending=False)/len(df_berlin_cleaned)"
   ]
  },
  {
   "cell_type": "code",
   "execution_count": 23,
   "id": "da79e394",
   "metadata": {},
   "outputs": [],
   "source": [
    "#..."
   ]
  },
  {
   "cell_type": "code",
   "execution_count": null,
   "id": "3c39bf8e",
   "metadata": {},
   "outputs": [],
   "source": []
  },
  {
   "cell_type": "markdown",
   "id": "bb124047",
   "metadata": {},
   "source": [
    "## Replacing missing data\n",
    "\n",
    "In the following we should replace/clear/construct features that have missing values."
   ]
  },
  {
   "cell_type": "markdown",
   "id": "a140b84c",
   "metadata": {},
   "source": [
    "### noParkSpaces\n",
    "\n",
    "Around **80% of the properties** do not have information on number of parking spaces. \n",
    "\n",
    "Solution: To handle the 'noParkSpaces' column where 80% of the values are missing, we can **create an additional binary column 'ParkSpaces' indicating whether a property has parking spaces or not.**\n",
    "\n",
    "Then DROP \"noParkSpaces\" AND KEEP 'ParkSpaces'\n",
    " \n",
    "- 1 = property has parking space\n",
    "- 0 = property has NO parking space\n"
   ]
  },
  {
   "cell_type": "code",
   "execution_count": 24,
   "id": "3ad25cae",
   "metadata": {
    "scrolled": true
   },
   "outputs": [
    {
     "data": {
      "text/plain": [
       "1.0     1285\n",
       "0.0      161\n",
       "2.0       86\n",
       "20.0      45\n",
       "24.0      18\n",
       "3.0        8\n",
       "6.0        6\n",
       "50.0       4\n",
       "30.0       4\n",
       "5.0        3\n",
       "54.0       2\n",
       "22.0       2\n",
       "10.0       2\n",
       "25.0       2\n",
       "26.0       2\n",
       "4.0        1\n",
       "9.0        1\n",
       "13.0       1\n",
       "8.0        1\n",
       "7.0        1\n",
       "34.0       1\n",
       "58.0       1\n",
       "Name: noParkSpaces, dtype: int64"
      ]
     },
     "execution_count": 24,
     "metadata": {},
     "output_type": "execute_result"
    }
   ],
   "source": [
    "df_berlin_cleaned['noParkSpaces'].value_counts().sort_values(ascending=False)"
   ]
  },
  {
   "cell_type": "code",
   "execution_count": 25,
   "id": "81bc2aae",
   "metadata": {},
   "outputs": [
    {
     "data": {
      "text/html": [
       "<div>\n",
       "<style scoped>\n",
       "    .dataframe tbody tr th:only-of-type {\n",
       "        vertical-align: middle;\n",
       "    }\n",
       "\n",
       "    .dataframe tbody tr th {\n",
       "        vertical-align: top;\n",
       "    }\n",
       "\n",
       "    .dataframe thead th {\n",
       "        text-align: right;\n",
       "    }\n",
       "</style>\n",
       "<table border=\"1\" class=\"dataframe\">\n",
       "  <thead>\n",
       "    <tr style=\"text-align: right;\">\n",
       "      <th></th>\n",
       "      <th>noParkSpaces</th>\n",
       "      <th>ParkSpaces</th>\n",
       "    </tr>\n",
       "  </thead>\n",
       "  <tbody>\n",
       "    <tr>\n",
       "      <th>45</th>\n",
       "      <td>1.0</td>\n",
       "      <td>1</td>\n",
       "    </tr>\n",
       "    <tr>\n",
       "      <th>61</th>\n",
       "      <td>NaN</td>\n",
       "      <td>0</td>\n",
       "    </tr>\n",
       "    <tr>\n",
       "      <th>77</th>\n",
       "      <td>1.0</td>\n",
       "      <td>1</td>\n",
       "    </tr>\n",
       "    <tr>\n",
       "      <th>86</th>\n",
       "      <td>NaN</td>\n",
       "      <td>0</td>\n",
       "    </tr>\n",
       "    <tr>\n",
       "      <th>87</th>\n",
       "      <td>NaN</td>\n",
       "      <td>0</td>\n",
       "    </tr>\n",
       "    <tr>\n",
       "      <th>...</th>\n",
       "      <td>...</td>\n",
       "      <td>...</td>\n",
       "    </tr>\n",
       "    <tr>\n",
       "      <th>268709</th>\n",
       "      <td>1.0</td>\n",
       "      <td>1</td>\n",
       "    </tr>\n",
       "    <tr>\n",
       "      <th>268733</th>\n",
       "      <td>NaN</td>\n",
       "      <td>0</td>\n",
       "    </tr>\n",
       "    <tr>\n",
       "      <th>268746</th>\n",
       "      <td>NaN</td>\n",
       "      <td>0</td>\n",
       "    </tr>\n",
       "    <tr>\n",
       "      <th>268758</th>\n",
       "      <td>NaN</td>\n",
       "      <td>0</td>\n",
       "    </tr>\n",
       "    <tr>\n",
       "      <th>268829</th>\n",
       "      <td>NaN</td>\n",
       "      <td>0</td>\n",
       "    </tr>\n",
       "  </tbody>\n",
       "</table>\n",
       "<p>8879 rows × 2 columns</p>\n",
       "</div>"
      ],
      "text/plain": [
       "        noParkSpaces  ParkSpaces\n",
       "45               1.0           1\n",
       "61               NaN           0\n",
       "77               1.0           1\n",
       "86               NaN           0\n",
       "87               NaN           0\n",
       "...              ...         ...\n",
       "268709           1.0           1\n",
       "268733           NaN           0\n",
       "268746           NaN           0\n",
       "268758           NaN           0\n",
       "268829           NaN           0\n",
       "\n",
       "[8879 rows x 2 columns]"
      ]
     },
     "execution_count": 25,
     "metadata": {},
     "output_type": "execute_result"
    }
   ],
   "source": [
    "# Create a new binary column 'ParkSpaces'\n",
    "df_berlin_cleaned['ParkSpaces'] = df_berlin_cleaned['noParkSpaces'].apply(lambda x: 1 if pd.notnull(x) else 0)\n",
    "\n",
    "#Double check\n",
    "df_berlin_cleaned[['noParkSpaces','ParkSpaces']]"
   ]
  },
  {
   "cell_type": "code",
   "execution_count": 26,
   "id": "44de0637",
   "metadata": {
    "scrolled": true
   },
   "outputs": [
    {
     "data": {
      "text/plain": [
       "petsAllowed           0.468634\n",
       "heatingCosts          0.417051\n",
       "numberOfFloors        0.305552\n",
       "condition             0.211623\n",
       "heatingType           0.144048\n",
       "telekomUploadSpeed    0.138304\n",
       "yearConstructed       0.132785\n",
       "facilities            0.111499\n",
       "floor                 0.095732\n",
       "typeOfFlat            0.073319\n",
       "description           0.066787\n",
       "totalRent             0.057439\n",
       "serviceCharge         0.017457\n",
       "garden                0.000000\n",
       "regio3                0.000000\n",
       "noRooms               0.000000\n",
       "geo_plz               0.000000\n",
       "regio1                0.000000\n",
       "lift                  0.000000\n",
       "streetPlain           0.000000\n",
       "livingSpace           0.000000\n",
       "houseNumber           0.000000\n",
       "baseRent              0.000000\n",
       "cellar                0.000000\n",
       "hasKitchen            0.000000\n",
       "scoutId               0.000000\n",
       "balcony               0.000000\n",
       "newlyConst            0.000000\n",
       "ParkSpaces            0.000000\n",
       "dtype: float64"
      ]
     },
     "execution_count": 26,
     "metadata": {},
     "output_type": "execute_result"
    }
   ],
   "source": [
    "#First drop the column 'noParkSpaces' and then let's show an overview of the % of missing value for remaining columns\n",
    "\n",
    "df_berlin_cleaned = df_berlin_cleaned.drop(columns=['noParkSpaces'])\n",
    "df_berlin_cleaned.isnull().sum().sort_values(ascending=False)/len(df_berlin_cleaned)\n",
    "#df_berlin_cleaned_3.columns"
   ]
  },
  {
   "cell_type": "markdown",
   "id": "d080a051",
   "metadata": {},
   "source": [
    "### petsAllowed\n",
    "\n",
    "Around **50% of the properties** do not have information on petsAllowed.\n",
    "\n",
    "Solution: Team decided to replace missing data by 'no'"
   ]
  },
  {
   "cell_type": "code",
   "execution_count": 27,
   "id": "ca43b48b",
   "metadata": {},
   "outputs": [
    {
     "data": {
      "text/plain": [
       "negotiable    3490\n",
       "no             994\n",
       "yes            234\n",
       "Name: petsAllowed, dtype: int64"
      ]
     },
     "execution_count": 27,
     "metadata": {},
     "output_type": "execute_result"
    }
   ],
   "source": [
    "df_berlin_cleaned['petsAllowed'].value_counts()\n"
   ]
  },
  {
   "cell_type": "code",
   "execution_count": 28,
   "id": "d014043e",
   "metadata": {},
   "outputs": [
    {
     "data": {
      "text/plain": [
       "4161"
      ]
     },
     "execution_count": 28,
     "metadata": {},
     "output_type": "execute_result"
    }
   ],
   "source": [
    "#Check on how many properties do not have info if pets are allowed\n",
    "df_berlin_cleaned['petsAllowed'].isnull().sum()"
   ]
  },
  {
   "cell_type": "code",
   "execution_count": 29,
   "id": "497727b3",
   "metadata": {},
   "outputs": [
    {
     "data": {
      "text/plain": [
       "0"
      ]
     },
     "execution_count": 29,
     "metadata": {},
     "output_type": "execute_result"
    }
   ],
   "source": [
    "#Replace NaN (null) values in the petsAllowed column with the string 'no'\n",
    "df_berlin_cleaned['petsAllowed'] = df_berlin_cleaned['petsAllowed'].fillna('no')\n",
    "\n",
    "#Recheck on how many properties do not have info if pets are allowed. If 0 then we successfully replaced NaN values\n",
    "df_berlin_cleaned['petsAllowed'].isnull().sum()"
   ]
  },
  {
   "cell_type": "code",
   "execution_count": 30,
   "id": "8cf25a64",
   "metadata": {
    "scrolled": true
   },
   "outputs": [
    {
     "data": {
      "text/plain": [
       "heatingCosts          0.417051\n",
       "numberOfFloors        0.305552\n",
       "condition             0.211623\n",
       "heatingType           0.144048\n",
       "telekomUploadSpeed    0.138304\n",
       "yearConstructed       0.132785\n",
       "facilities            0.111499\n",
       "floor                 0.095732\n",
       "typeOfFlat            0.073319\n",
       "description           0.066787\n",
       "totalRent             0.057439\n",
       "serviceCharge         0.017457\n",
       "regio3                0.000000\n",
       "garden                0.000000\n",
       "lift                  0.000000\n",
       "noRooms               0.000000\n",
       "geo_plz               0.000000\n",
       "regio1                0.000000\n",
       "streetPlain           0.000000\n",
       "petsAllowed           0.000000\n",
       "livingSpace           0.000000\n",
       "houseNumber           0.000000\n",
       "baseRent              0.000000\n",
       "cellar                0.000000\n",
       "hasKitchen            0.000000\n",
       "scoutId               0.000000\n",
       "balcony               0.000000\n",
       "newlyConst            0.000000\n",
       "ParkSpaces            0.000000\n",
       "dtype: float64"
      ]
     },
     "execution_count": 30,
     "metadata": {},
     "output_type": "execute_result"
    }
   ],
   "source": [
    "df_berlin_cleaned.isnull().sum().sort_values(ascending=False)/len(df_berlin_cleaned)"
   ]
  },
  {
   "cell_type": "markdown",
   "id": "042ac05f",
   "metadata": {},
   "source": [
    "### heatingCosts \n",
    "\n",
    "Around **40% of the properties** do not have information on monthly heating costs in €.\n",
    "\n",
    "Solution: To fill the missing heatingCosts values based on the **average heating cost per room**, you can follow these steps:\n",
    "\n",
    "1. Calculate the average heating cost per room for the rows where the heatingCosts is not missing.\n",
    "2. Use this average to fill in the missing values by multiplying it by the noRooms for each property with missing heating costs."
   ]
  },
  {
   "cell_type": "code",
   "execution_count": 31,
   "id": "ec37236b",
   "metadata": {},
   "outputs": [
    {
     "name": "stdout",
     "output_type": "stream",
     "text": [
      "Average heating cost per room: 35.126613090844536\n"
     ]
    }
   ],
   "source": [
    "# Calculate the average heating cost per room for non-missing values\n",
    "df_with_heating_costs = df_berlin_cleaned.dropna(subset=['heatingCosts'])\n",
    "average_cost_per_room = (df_with_heating_costs['heatingCosts'] / df_with_heating_costs['noRooms']).mean()\n",
    "\n",
    "print(f\"Average heating cost per room: {average_cost_per_room}\")\n"
   ]
  },
  {
   "cell_type": "code",
   "execution_count": 32,
   "id": "d4f3998f",
   "metadata": {},
   "outputs": [],
   "source": [
    "# Define a function to fill missing heatingCosts based on the number of rooms\n",
    "def fill_heating_cost(row):\n",
    "    if pd.isnull(row['heatingCosts']):\n",
    "        return row['noRooms'] * average_cost_per_room\n",
    "    return row['heatingCosts']\n",
    "\n",
    "# Apply the function to the DataFrame\n",
    "df_berlin_cleaned['heatingCosts'] = df_berlin_cleaned.apply(fill_heating_cost, axis=1)\n"
   ]
  },
  {
   "cell_type": "code",
   "execution_count": 33,
   "id": "da1dea81",
   "metadata": {},
   "outputs": [
    {
     "data": {
      "text/plain": [
       "0"
      ]
     },
     "execution_count": 33,
     "metadata": {},
     "output_type": "execute_result"
    }
   ],
   "source": [
    "#Recheck on how many properties do not have info if heating costs. If 0 then we successfully replaced NaN values\n",
    "df_berlin_cleaned['heatingCosts'].isnull().sum()"
   ]
  },
  {
   "cell_type": "code",
   "execution_count": 34,
   "id": "ea6cff47",
   "metadata": {
    "scrolled": true
   },
   "outputs": [
    {
     "data": {
      "text/plain": [
       "numberOfFloors        0.305552\n",
       "condition             0.211623\n",
       "heatingType           0.144048\n",
       "telekomUploadSpeed    0.138304\n",
       "yearConstructed       0.132785\n",
       "facilities            0.111499\n",
       "floor                 0.095732\n",
       "typeOfFlat            0.073319\n",
       "description           0.066787\n",
       "totalRent             0.057439\n",
       "serviceCharge         0.017457\n",
       "lift                  0.000000\n",
       "regio3                0.000000\n",
       "garden                0.000000\n",
       "heatingCosts          0.000000\n",
       "noRooms               0.000000\n",
       "geo_plz               0.000000\n",
       "regio1                0.000000\n",
       "streetPlain           0.000000\n",
       "petsAllowed           0.000000\n",
       "livingSpace           0.000000\n",
       "houseNumber           0.000000\n",
       "baseRent              0.000000\n",
       "cellar                0.000000\n",
       "hasKitchen            0.000000\n",
       "scoutId               0.000000\n",
       "balcony               0.000000\n",
       "newlyConst            0.000000\n",
       "ParkSpaces            0.000000\n",
       "dtype: float64"
      ]
     },
     "execution_count": 34,
     "metadata": {},
     "output_type": "execute_result"
    }
   ],
   "source": [
    "df_berlin_cleaned.isnull().sum().sort_values(ascending=False)/len(df_berlin_cleaned)"
   ]
  },
  {
   "cell_type": "markdown",
   "id": "2dccac47",
   "metadata": {},
   "source": [
    "### numberOfFloors \n",
    "\n",
    "Around **30% of the properties** do not have information on number of floors in the building.\n",
    "\n",
    "Solution: Random Sampling from Known Distribution"
   ]
  },
  {
   "cell_type": "code",
   "execution_count": 35,
   "id": "18b3063c",
   "metadata": {},
   "outputs": [],
   "source": [
    "# Get non-null values of numberOfFloors\n",
    "known_floors = df_berlin_cleaned['numberOfFloors'].dropna()\n",
    "\n",
    "# Fill missing values by sampling from the known distribution\n",
    "missing_indices = df_berlin_cleaned[df_berlin_cleaned['numberOfFloors'].isnull()].index\n",
    "df_berlin_cleaned.loc[missing_indices, 'numberOfFloors'] = np.random.choice(known_floors, size=len(missing_indices), replace=True)\n"
   ]
  },
  {
   "cell_type": "code",
   "execution_count": 36,
   "id": "6f1f9783",
   "metadata": {},
   "outputs": [
    {
     "data": {
      "text/plain": [
       "0"
      ]
     },
     "execution_count": 36,
     "metadata": {},
     "output_type": "execute_result"
    }
   ],
   "source": [
    "#Recheck on how many properties do not have info if heating costs. If 0 then we successfully replaced NaN values\n",
    "df_berlin_cleaned['numberOfFloors'].isnull().sum()"
   ]
  },
  {
   "cell_type": "code",
   "execution_count": 37,
   "id": "4c22dfa6",
   "metadata": {
    "scrolled": true
   },
   "outputs": [
    {
     "data": {
      "text/plain": [
       "condition             0.211623\n",
       "heatingType           0.144048\n",
       "telekomUploadSpeed    0.138304\n",
       "yearConstructed       0.132785\n",
       "facilities            0.111499\n",
       "floor                 0.095732\n",
       "typeOfFlat            0.073319\n",
       "description           0.066787\n",
       "totalRent             0.057439\n",
       "serviceCharge         0.017457\n",
       "lift                  0.000000\n",
       "regio3                0.000000\n",
       "garden                0.000000\n",
       "numberOfFloors        0.000000\n",
       "heatingCosts          0.000000\n",
       "noRooms               0.000000\n",
       "geo_plz               0.000000\n",
       "regio1                0.000000\n",
       "streetPlain           0.000000\n",
       "petsAllowed           0.000000\n",
       "livingSpace           0.000000\n",
       "houseNumber           0.000000\n",
       "baseRent              0.000000\n",
       "cellar                0.000000\n",
       "hasKitchen            0.000000\n",
       "scoutId               0.000000\n",
       "balcony               0.000000\n",
       "newlyConst            0.000000\n",
       "ParkSpaces            0.000000\n",
       "dtype: float64"
      ]
     },
     "execution_count": 37,
     "metadata": {},
     "output_type": "execute_result"
    }
   ],
   "source": [
    "df_berlin_cleaned.isnull().sum().sort_values(ascending=False)/len(df_berlin_cleaned)"
   ]
  },
  {
   "cell_type": "markdown",
   "id": "fdf1c52c",
   "metadata": {},
   "source": [
    "### condition \n",
    "\n",
    "Around **20% of the properties** do not have information on condition of the flat.\n",
    "\n",
    "Solution: Fill with Mode"
   ]
  },
  {
   "cell_type": "code",
   "execution_count": 38,
   "id": "252a74e1",
   "metadata": {},
   "outputs": [],
   "source": [
    "# Calculate the mode of the 'condition' column\n",
    "mode_condition = df_berlin_cleaned['condition'].mode()[0]\n",
    "\n",
    "# Fill missing values with the mode\n",
    "df_berlin_cleaned['condition'].fillna(mode_condition, inplace=True)\n"
   ]
  },
  {
   "cell_type": "code",
   "execution_count": 39,
   "id": "a93e9455",
   "metadata": {
    "scrolled": true
   },
   "outputs": [
    {
     "data": {
      "text/plain": [
       "heatingType           0.144048\n",
       "telekomUploadSpeed    0.138304\n",
       "yearConstructed       0.132785\n",
       "facilities            0.111499\n",
       "floor                 0.095732\n",
       "typeOfFlat            0.073319\n",
       "description           0.066787\n",
       "totalRent             0.057439\n",
       "serviceCharge         0.017457\n",
       "lift                  0.000000\n",
       "regio3                0.000000\n",
       "garden                0.000000\n",
       "numberOfFloors        0.000000\n",
       "heatingCosts          0.000000\n",
       "noRooms               0.000000\n",
       "geo_plz               0.000000\n",
       "regio1                0.000000\n",
       "condition             0.000000\n",
       "streetPlain           0.000000\n",
       "petsAllowed           0.000000\n",
       "livingSpace           0.000000\n",
       "houseNumber           0.000000\n",
       "baseRent              0.000000\n",
       "cellar                0.000000\n",
       "hasKitchen            0.000000\n",
       "scoutId               0.000000\n",
       "balcony               0.000000\n",
       "newlyConst            0.000000\n",
       "ParkSpaces            0.000000\n",
       "dtype: float64"
      ]
     },
     "execution_count": 39,
     "metadata": {},
     "output_type": "execute_result"
    }
   ],
   "source": [
    "df_berlin_cleaned.isnull().sum().sort_values(ascending=False)/len(df_berlin_cleaned)"
   ]
  },
  {
   "cell_type": "markdown",
   "id": "9e56bb26",
   "metadata": {},
   "source": [
    "### typeOfFlat  \n",
    "\n",
    "Around **7% of the properties** do not have information on condition of typeOfFlat.\n",
    "\n",
    "Solution: Fill with Mode"
   ]
  },
  {
   "cell_type": "code",
   "execution_count": 40,
   "id": "de46e639",
   "metadata": {},
   "outputs": [],
   "source": [
    "# Calculate the mode of the 'typeOfFlat' column\n",
    "mode_flat_type = df_berlin_cleaned['typeOfFlat'].mode()[0]\n",
    "\n",
    "# Fill missing values with the mode\n",
    "df_berlin_cleaned['typeOfFlat'].fillna(mode_flat_type, inplace=True)\n"
   ]
  },
  {
   "cell_type": "code",
   "execution_count": 41,
   "id": "e85e8a50",
   "metadata": {
    "scrolled": true
   },
   "outputs": [
    {
     "data": {
      "text/plain": [
       "heatingType           0.144048\n",
       "telekomUploadSpeed    0.138304\n",
       "yearConstructed       0.132785\n",
       "facilities            0.111499\n",
       "floor                 0.095732\n",
       "description           0.066787\n",
       "totalRent             0.057439\n",
       "serviceCharge         0.017457\n",
       "numberOfFloors        0.000000\n",
       "geo_plz               0.000000\n",
       "noRooms               0.000000\n",
       "regio1                0.000000\n",
       "garden                0.000000\n",
       "regio3                0.000000\n",
       "lift                  0.000000\n",
       "heatingCosts          0.000000\n",
       "typeOfFlat            0.000000\n",
       "condition             0.000000\n",
       "streetPlain           0.000000\n",
       "petsAllowed           0.000000\n",
       "livingSpace           0.000000\n",
       "houseNumber           0.000000\n",
       "baseRent              0.000000\n",
       "cellar                0.000000\n",
       "hasKitchen            0.000000\n",
       "scoutId               0.000000\n",
       "balcony               0.000000\n",
       "newlyConst            0.000000\n",
       "ParkSpaces            0.000000\n",
       "dtype: float64"
      ]
     },
     "execution_count": 41,
     "metadata": {},
     "output_type": "execute_result"
    }
   ],
   "source": [
    "df_berlin_cleaned.isnull().sum().sort_values(ascending=False)/len(df_berlin_cleaned)"
   ]
  },
  {
   "cell_type": "markdown",
   "id": "cadf5cab",
   "metadata": {},
   "source": [
    "### heatingType \n",
    "\n",
    "Around **14% of the properties** do not have information on heatingType.\n",
    "\n",
    "Solution: Fill missing 'heatingType' based on the mode of 'typeOfFlat'"
   ]
  },
  {
   "cell_type": "code",
   "execution_count": 42,
   "id": "8762318d",
   "metadata": {},
   "outputs": [],
   "source": [
    "# Fill missing 'heatingType' based on the mode of 'typeOfFlat'\n",
    "def fill_heating_type(row):\n",
    "    if pd.isnull(row['heatingType']):\n",
    "        return df_berlin_cleaned[df_berlin_cleaned['typeOfFlat'] == row['typeOfFlat']]['heatingType'].mode()[0]\n",
    "    return row['heatingType']\n",
    "\n",
    "df_berlin_cleaned['heatingType'] = df_berlin_cleaned.apply(fill_heating_type, axis=1)\n"
   ]
  },
  {
   "cell_type": "code",
   "execution_count": 43,
   "id": "5492e076",
   "metadata": {
    "scrolled": true
   },
   "outputs": [
    {
     "data": {
      "text/plain": [
       "telekomUploadSpeed    0.138304\n",
       "yearConstructed       0.132785\n",
       "facilities            0.111499\n",
       "floor                 0.095732\n",
       "description           0.066787\n",
       "totalRent             0.057439\n",
       "serviceCharge         0.017457\n",
       "regio1                0.000000\n",
       "lift                  0.000000\n",
       "heatingCosts          0.000000\n",
       "regio3                0.000000\n",
       "garden                0.000000\n",
       "numberOfFloors        0.000000\n",
       "noRooms               0.000000\n",
       "geo_plz               0.000000\n",
       "typeOfFlat            0.000000\n",
       "condition             0.000000\n",
       "streetPlain           0.000000\n",
       "petsAllowed           0.000000\n",
       "livingSpace           0.000000\n",
       "houseNumber           0.000000\n",
       "baseRent              0.000000\n",
       "cellar                0.000000\n",
       "hasKitchen            0.000000\n",
       "scoutId               0.000000\n",
       "balcony               0.000000\n",
       "newlyConst            0.000000\n",
       "heatingType           0.000000\n",
       "ParkSpaces            0.000000\n",
       "dtype: float64"
      ]
     },
     "execution_count": 43,
     "metadata": {},
     "output_type": "execute_result"
    }
   ],
   "source": [
    "df_berlin_cleaned.isnull().sum().sort_values(ascending=False)/len(df_berlin_cleaned)"
   ]
  },
  {
   "cell_type": "markdown",
   "id": "aeeb5efc",
   "metadata": {},
   "source": [
    "### telekomUploadSpeed \n",
    "\n",
    "Around **14% of the properties** do not have information on telekomUploadSpeed.\n",
    "\n",
    "Solution: Fill with Mean\n"
   ]
  },
  {
   "cell_type": "code",
   "execution_count": 44,
   "id": "0a0e5586",
   "metadata": {},
   "outputs": [],
   "source": [
    "# Calculate mean and median of the 'telekomUploadSpeed' column\n",
    "mean_upload_speed = df_berlin_cleaned['telekomUploadSpeed'].mean()\n",
    "\n",
    "# Fill missing values with the mean or median\n",
    "df_berlin_cleaned['telekomUploadSpeed'].fillna(mean_upload_speed, inplace=True)"
   ]
  },
  {
   "cell_type": "code",
   "execution_count": 45,
   "id": "be7402f8",
   "metadata": {
    "scrolled": true
   },
   "outputs": [
    {
     "data": {
      "text/plain": [
       "yearConstructed       0.132785\n",
       "facilities            0.111499\n",
       "floor                 0.095732\n",
       "description           0.066787\n",
       "totalRent             0.057439\n",
       "serviceCharge         0.017457\n",
       "regio1                0.000000\n",
       "streetPlain           0.000000\n",
       "heatingCosts          0.000000\n",
       "regio3                0.000000\n",
       "garden                0.000000\n",
       "numberOfFloors        0.000000\n",
       "noRooms               0.000000\n",
       "geo_plz               0.000000\n",
       "typeOfFlat            0.000000\n",
       "lift                  0.000000\n",
       "condition             0.000000\n",
       "petsAllowed           0.000000\n",
       "livingSpace           0.000000\n",
       "houseNumber           0.000000\n",
       "baseRent              0.000000\n",
       "cellar                0.000000\n",
       "hasKitchen            0.000000\n",
       "scoutId               0.000000\n",
       "telekomUploadSpeed    0.000000\n",
       "balcony               0.000000\n",
       "newlyConst            0.000000\n",
       "heatingType           0.000000\n",
       "ParkSpaces            0.000000\n",
       "dtype: float64"
      ]
     },
     "execution_count": 45,
     "metadata": {},
     "output_type": "execute_result"
    }
   ],
   "source": [
    "df_berlin_cleaned.isnull().sum().sort_values(ascending=False)/len(df_berlin_cleaned)"
   ]
  },
  {
   "cell_type": "code",
   "execution_count": null,
   "id": "0182ae9d",
   "metadata": {},
   "outputs": [],
   "source": []
  },
  {
   "cell_type": "markdown",
   "id": "07dc8689",
   "metadata": {},
   "source": [
    "### yearConstructed\n",
    "\n",
    "Around **14% of the properties** do not have information on yearConstructed.\n",
    "\n",
    "Solution: Calculate median of the 'yearConstructed' column\n"
   ]
  },
  {
   "cell_type": "code",
   "execution_count": 46,
   "id": "834d0b68",
   "metadata": {},
   "outputs": [],
   "source": [
    "# Calculate mean and median of the 'yearConstructed' column\n",
    "median_year = df_berlin_cleaned['yearConstructed'].median()\n",
    "\n",
    "# Fill missing values with the mean or median\n",
    "df_berlin_cleaned['yearConstructed'].fillna(median_year, inplace=True)  # Using median for robustness\n"
   ]
  },
  {
   "cell_type": "code",
   "execution_count": 47,
   "id": "59d9efb3",
   "metadata": {
    "scrolled": true
   },
   "outputs": [
    {
     "data": {
      "text/plain": [
       "facilities            0.111499\n",
       "floor                 0.095732\n",
       "description           0.066787\n",
       "totalRent             0.057439\n",
       "serviceCharge         0.017457\n",
       "regio1                0.000000\n",
       "streetPlain           0.000000\n",
       "heatingCosts          0.000000\n",
       "regio3                0.000000\n",
       "garden                0.000000\n",
       "numberOfFloors        0.000000\n",
       "noRooms               0.000000\n",
       "geo_plz               0.000000\n",
       "typeOfFlat            0.000000\n",
       "lift                  0.000000\n",
       "condition             0.000000\n",
       "petsAllowed           0.000000\n",
       "livingSpace           0.000000\n",
       "houseNumber           0.000000\n",
       "baseRent              0.000000\n",
       "cellar                0.000000\n",
       "hasKitchen            0.000000\n",
       "scoutId               0.000000\n",
       "yearConstructed       0.000000\n",
       "telekomUploadSpeed    0.000000\n",
       "balcony               0.000000\n",
       "newlyConst            0.000000\n",
       "heatingType           0.000000\n",
       "ParkSpaces            0.000000\n",
       "dtype: float64"
      ]
     },
     "execution_count": 47,
     "metadata": {},
     "output_type": "execute_result"
    }
   ],
   "source": [
    "df_berlin_cleaned.isnull().sum().sort_values(ascending=False)/len(df_berlin_cleaned)"
   ]
  },
  {
   "cell_type": "markdown",
   "id": "8d38ee18",
   "metadata": {},
   "source": [
    "### floor\n",
    "\n",
    "Around **10% of the properties** do not have information on which floor is the flat on.\n",
    "\n",
    "Solution: Randomly assign a floor number within the range of 1 to numberOfFloors for missing values."
   ]
  },
  {
   "cell_type": "code",
   "execution_count": 48,
   "id": "83749e7a",
   "metadata": {},
   "outputs": [
    {
     "data": {
      "text/plain": [
       "array([ 3.,  5.,  7.,  6.,  2.,  4., 14., 11.,  8.,  0., 12., 16., 13.,\n",
       "        9., 10.,  1., 17., 18., 20., 15., 21., 19., 27., 25., 22.])"
      ]
     },
     "execution_count": 48,
     "metadata": {},
     "output_type": "execute_result"
    }
   ],
   "source": [
    "df_berlin_cleaned['numberOfFloors'].unique()"
   ]
  },
  {
   "cell_type": "code",
   "execution_count": 49,
   "id": "ac044e76",
   "metadata": {},
   "outputs": [],
   "source": [
    "# Function to fill missing 'floor' with a random value within the range\n",
    "def assign_random_floor(row):\n",
    "    if pd.isnull(row['floor']):\n",
    "        return np.random.randint(0, row['numberOfFloors'] + 1)\n",
    "    return row['floor']\n",
    "\n",
    "df_berlin_cleaned['floor'] = df_berlin_cleaned.apply(assign_random_floor, axis=1)\n"
   ]
  },
  {
   "cell_type": "code",
   "execution_count": 50,
   "id": "7b50704a",
   "metadata": {},
   "outputs": [],
   "source": [
    "df_berlin_cleaned.rename(columns={'floor': 'floorNo'}, inplace=True)"
   ]
  },
  {
   "cell_type": "code",
   "execution_count": 51,
   "id": "96cc192b",
   "metadata": {
    "scrolled": true
   },
   "outputs": [
    {
     "data": {
      "text/plain": [
       "facilities            0.111499\n",
       "description           0.066787\n",
       "totalRent             0.057439\n",
       "serviceCharge         0.017457\n",
       "regio1                0.000000\n",
       "streetPlain           0.000000\n",
       "heatingCosts          0.000000\n",
       "regio3                0.000000\n",
       "garden                0.000000\n",
       "numberOfFloors        0.000000\n",
       "floorNo               0.000000\n",
       "noRooms               0.000000\n",
       "geo_plz               0.000000\n",
       "typeOfFlat            0.000000\n",
       "lift                  0.000000\n",
       "condition             0.000000\n",
       "petsAllowed           0.000000\n",
       "livingSpace           0.000000\n",
       "houseNumber           0.000000\n",
       "baseRent              0.000000\n",
       "cellar                0.000000\n",
       "hasKitchen            0.000000\n",
       "scoutId               0.000000\n",
       "yearConstructed       0.000000\n",
       "telekomUploadSpeed    0.000000\n",
       "balcony               0.000000\n",
       "newlyConst            0.000000\n",
       "heatingType           0.000000\n",
       "ParkSpaces            0.000000\n",
       "dtype: float64"
      ]
     },
     "execution_count": 51,
     "metadata": {},
     "output_type": "execute_result"
    }
   ],
   "source": [
    "df_berlin_cleaned.isnull().sum().sort_values(ascending=False)/len(df_berlin_cleaned)"
   ]
  },
  {
   "cell_type": "markdown",
   "id": "6d332f19",
   "metadata": {},
   "source": [
    "### serviceCharge  \n",
    "\n",
    "Around **2% of the properties** do not have information on serviceCharge.\n",
    "\n",
    "Solution: Fill missing values based on the mean or median serviceCharge within groups of similar properties, such as by typeOfFlat, geo_plz, or other relevant features."
   ]
  },
  {
   "cell_type": "code",
   "execution_count": 52,
   "id": "33f32841",
   "metadata": {},
   "outputs": [],
   "source": [
    "# Calculate median\n",
    "median_serviceCharge = df_berlin_cleaned['serviceCharge'].median()\n",
    "\n",
    "# Calculate median serviceCharge by typeOfFlat (or another relevant grouping)\n",
    "median_serviceCharge_by_group = df_berlin_cleaned.groupby('typeOfFlat')['serviceCharge'].median()\n",
    "\n",
    "# Function to fill missing serviceCharge based on group median\n",
    "def fill_serviceCharge(row):\n",
    "    if pd.isnull(row['serviceCharge']):\n",
    "        return median_serviceCharge_by_group.get(row['typeOfFlat'], median_serviceCharge)  # Default to overall median if group is missing\n",
    "    return row['serviceCharge']\n",
    "\n",
    "df_berlin_cleaned['serviceCharge'] = df_berlin_cleaned.apply(fill_serviceCharge, axis=1)\n"
   ]
  },
  {
   "cell_type": "code",
   "execution_count": 53,
   "id": "af6be9a0",
   "metadata": {
    "scrolled": true
   },
   "outputs": [
    {
     "data": {
      "text/plain": [
       "facilities            0.111499\n",
       "description           0.066787\n",
       "totalRent             0.057439\n",
       "regio1                0.000000\n",
       "petsAllowed           0.000000\n",
       "heatingCosts          0.000000\n",
       "regio3                0.000000\n",
       "garden                0.000000\n",
       "numberOfFloors        0.000000\n",
       "floorNo               0.000000\n",
       "noRooms               0.000000\n",
       "geo_plz               0.000000\n",
       "typeOfFlat            0.000000\n",
       "lift                  0.000000\n",
       "streetPlain           0.000000\n",
       "condition             0.000000\n",
       "serviceCharge         0.000000\n",
       "livingSpace           0.000000\n",
       "houseNumber           0.000000\n",
       "baseRent              0.000000\n",
       "cellar                0.000000\n",
       "hasKitchen            0.000000\n",
       "scoutId               0.000000\n",
       "yearConstructed       0.000000\n",
       "telekomUploadSpeed    0.000000\n",
       "balcony               0.000000\n",
       "newlyConst            0.000000\n",
       "heatingType           0.000000\n",
       "ParkSpaces            0.000000\n",
       "dtype: float64"
      ]
     },
     "execution_count": 53,
     "metadata": {},
     "output_type": "execute_result"
    }
   ],
   "source": [
    "df_berlin_cleaned.isnull().sum().sort_values(ascending=False)/len(df_berlin_cleaned)"
   ]
  },
  {
   "cell_type": "markdown",
   "id": "1688d7a2",
   "metadata": {},
   "source": [
    "### totalRent  \n",
    "\n",
    "Around **6% of the properties** do not have information on total rent (usually a sum of base rent, service charge and heating cost).\n",
    "\n",
    "Solution: Sum of of base rent, service charge and heating cost"
   ]
  },
  {
   "cell_type": "code",
   "execution_count": 54,
   "id": "a3167ac4",
   "metadata": {},
   "outputs": [],
   "source": [
    "df_berlin_cleaned['totalRent'] = df_berlin_cleaned.apply(\n",
    "    lambda row: row['baseRent'] + row['serviceCharge'] + row['heatingCosts']\n",
    "    if pd.isnull(row['totalRent'])\n",
    "    else row['totalRent'],\n",
    "    axis=1\n",
    ")"
   ]
  },
  {
   "cell_type": "code",
   "execution_count": 55,
   "id": "88da369d",
   "metadata": {
    "scrolled": true
   },
   "outputs": [
    {
     "data": {
      "text/plain": [
       "facilities            0.111499\n",
       "description           0.066787\n",
       "regio1                0.000000\n",
       "petsAllowed           0.000000\n",
       "heatingCosts          0.000000\n",
       "regio3                0.000000\n",
       "garden                0.000000\n",
       "numberOfFloors        0.000000\n",
       "floorNo               0.000000\n",
       "noRooms               0.000000\n",
       "geo_plz               0.000000\n",
       "typeOfFlat            0.000000\n",
       "lift                  0.000000\n",
       "streetPlain           0.000000\n",
       "condition             0.000000\n",
       "serviceCharge         0.000000\n",
       "livingSpace           0.000000\n",
       "houseNumber           0.000000\n",
       "baseRent              0.000000\n",
       "cellar                0.000000\n",
       "hasKitchen            0.000000\n",
       "scoutId               0.000000\n",
       "yearConstructed       0.000000\n",
       "totalRent             0.000000\n",
       "telekomUploadSpeed    0.000000\n",
       "balcony               0.000000\n",
       "newlyConst            0.000000\n",
       "heatingType           0.000000\n",
       "ParkSpaces            0.000000\n",
       "dtype: float64"
      ]
     },
     "execution_count": 55,
     "metadata": {},
     "output_type": "execute_result"
    }
   ],
   "source": [
    "df_berlin_cleaned.isnull().sum().sort_values(ascending=False)/len(df_berlin_cleaned)"
   ]
  },
  {
   "cell_type": "markdown",
   "id": "cfaefb87-ee50-402f-a9e2-5f9ca64395a7",
   "metadata": {},
   "source": [
    "### facilities & description\n",
    "\n",
    "Around **11% of the properties** do not have information discribtion.\n",
    "\n",
    "Solution: Replace empty value with 'na'\n"
   ]
  },
  {
   "cell_type": "code",
   "execution_count": 56,
   "id": "c68cb37a-81a4-4798-90b6-b7d6e5e64c08",
   "metadata": {},
   "outputs": [],
   "source": [
    "df_berlin_cleaned['facilities'].fillna('na', inplace=True)\n",
    "df_berlin_cleaned['description'].fillna('na', inplace=True)\n"
   ]
  },
  {
   "cell_type": "code",
   "execution_count": 55,
   "id": "c778ac97-cd41-417e-b2df-2d2cb3745d4a",
   "metadata": {
    "scrolled": true
   },
   "outputs": [
    {
     "data": {
      "text/plain": [
       "lastRefurbish            0.683185\n",
       "energyEfficiencyClass    0.662237\n",
       "interiorQual             0.411420\n",
       "thermalChar              0.300935\n",
       "firingTypes              0.214776\n",
       "telekomTvOffer           0.138304\n",
       "yearConstructedRange     0.132785\n",
       "pricetrend               0.002027\n",
       "noRoomsRange             0.000000\n",
       "typeOfFlat               0.000000\n",
       "geo_plz                  0.000000\n",
       "noRooms                  0.000000\n",
       "floor                    0.000000\n",
       "numberOfFloors           0.000000\n",
       "regio1                   0.000000\n",
       "garden                   0.000000\n",
       "livingSpaceRange         0.000000\n",
       "lift                     0.000000\n",
       "regio2                   0.000000\n",
       "regio3                   0.000000\n",
       "description              0.000000\n",
       "facilities               0.000000\n",
       "heatingCosts             0.000000\n",
       "date                     0.000000\n",
       "baseRentRange            0.000000\n",
       "petsAllowed              0.000000\n",
       "streetPlain              0.000000\n",
       "street                   0.000000\n",
       "heatingType              0.000000\n",
       "newlyConst               0.000000\n",
       "balcony                  0.000000\n",
       "picturecount             0.000000\n",
       "telekomUploadSpeed       0.000000\n",
       "totalRent                0.000000\n",
       "yearConstructed          0.000000\n",
       "scoutId                  0.000000\n",
       "hasKitchen               0.000000\n",
       "geo_bln                  0.000000\n",
       "cellar                   0.000000\n",
       "baseRent                 0.000000\n",
       "houseNumber              0.000000\n",
       "livingSpace              0.000000\n",
       "geo_krs                  0.000000\n",
       "condition                0.000000\n",
       "serviceCharge            0.000000\n",
       "ParkSpaces               0.000000\n",
       "dtype: float64"
      ]
     },
     "execution_count": 55,
     "metadata": {},
     "output_type": "execute_result"
    }
   ],
   "source": [
    "df_berlin_cleaned.isnull().sum().sort_values(ascending=False)/len(df_berlin_cleaned)"
   ]
  },
  {
   "cell_type": "markdown",
   "id": "5b91a6bc",
   "metadata": {},
   "source": [
    "# Creating Full Address column for API call\n",
    "\n",
    "Create a new column **'fullAddress'** that serves as **input for an API Overpass** call. We need to concatenate the values from the houseNumber, streetPlain, geo_plz, regio1. Additionally we need to include the country in the address string. \\\n",
    "PS: country column is not yet in the dataset\n",
    "\n",
    "1. Replace '_' in the streetPlain by ' '\n",
    "2. Merge houseNumber, streetPlain, geo_pl and regio1, country\n",
    "\n",
    "DROP houseNumber, streetPlain, geo_plz, regio1. & KEEP fullAddress only\n"
   ]
  },
  {
   "cell_type": "code",
   "execution_count": 58,
   "id": "cbbdcbe7",
   "metadata": {},
   "outputs": [],
   "source": [
    "#First: Remove underscores from 'streetPlain' column\n",
    "df_berlin_cleaned['streetPlain'] = df_berlin_cleaned['streetPlain'].str.replace('_', ' ')"
   ]
  },
  {
   "cell_type": "code",
   "execution_count": 59,
   "id": "c9b3de59",
   "metadata": {},
   "outputs": [
    {
     "data": {
      "text/html": [
       "<div>\n",
       "<style scoped>\n",
       "    .dataframe tbody tr th:only-of-type {\n",
       "        vertical-align: middle;\n",
       "    }\n",
       "\n",
       "    .dataframe tbody tr th {\n",
       "        vertical-align: top;\n",
       "    }\n",
       "\n",
       "    .dataframe thead th {\n",
       "        text-align: right;\n",
       "    }\n",
       "</style>\n",
       "<table border=\"1\" class=\"dataframe\">\n",
       "  <thead>\n",
       "    <tr style=\"text-align: right;\">\n",
       "      <th></th>\n",
       "      <th>streetPlain</th>\n",
       "      <th>houseNumber</th>\n",
       "      <th>geo_plz</th>\n",
       "      <th>regio1</th>\n",
       "      <th>fullAddress</th>\n",
       "    </tr>\n",
       "  </thead>\n",
       "  <tbody>\n",
       "    <tr>\n",
       "      <th>45</th>\n",
       "      <td>Metropolitan Park</td>\n",
       "      <td>63</td>\n",
       "      <td>13591</td>\n",
       "      <td>Berlin</td>\n",
       "      <td>Metropolitan Park 63, 13591 Berlin, Germany</td>\n",
       "    </tr>\n",
       "    <tr>\n",
       "      <th>61</th>\n",
       "      <td>Börnestraße</td>\n",
       "      <td>11</td>\n",
       "      <td>13086</td>\n",
       "      <td>Berlin</td>\n",
       "      <td>Börnestraße 11, 13086 Berlin, Germany</td>\n",
       "    </tr>\n",
       "    <tr>\n",
       "      <th>77</th>\n",
       "      <td>Stallschreiberstraße</td>\n",
       "      <td>27</td>\n",
       "      <td>10179</td>\n",
       "      <td>Berlin</td>\n",
       "      <td>Stallschreiberstraße 27, 10179 Berlin, Germany</td>\n",
       "    </tr>\n",
       "    <tr>\n",
       "      <th>86</th>\n",
       "      <td>Hallesche Straße</td>\n",
       "      <td>5a</td>\n",
       "      <td>10963</td>\n",
       "      <td>Berlin</td>\n",
       "      <td>Hallesche Straße 5a, 10963 Berlin, Germany</td>\n",
       "    </tr>\n",
       "    <tr>\n",
       "      <th>87</th>\n",
       "      <td>Heidestraße</td>\n",
       "      <td>19</td>\n",
       "      <td>10557</td>\n",
       "      <td>Berlin</td>\n",
       "      <td>Heidestraße 19, 10557 Berlin, Germany</td>\n",
       "    </tr>\n",
       "    <tr>\n",
       "      <th>...</th>\n",
       "      <td>...</td>\n",
       "      <td>...</td>\n",
       "      <td>...</td>\n",
       "      <td>...</td>\n",
       "      <td>...</td>\n",
       "    </tr>\n",
       "    <tr>\n",
       "      <th>268709</th>\n",
       "      <td>Wartburgstraße</td>\n",
       "      <td>53a</td>\n",
       "      <td>10823</td>\n",
       "      <td>Berlin</td>\n",
       "      <td>Wartburgstraße 53a, 10823 Berlin, Germany</td>\n",
       "    </tr>\n",
       "    <tr>\n",
       "      <th>268733</th>\n",
       "      <td>Brüderstraße</td>\n",
       "      <td>22</td>\n",
       "      <td>13595</td>\n",
       "      <td>Berlin</td>\n",
       "      <td>Brüderstraße 22, 13595 Berlin, Germany</td>\n",
       "    </tr>\n",
       "    <tr>\n",
       "      <th>268746</th>\n",
       "      <td>Todtnauer Zeile</td>\n",
       "      <td>3</td>\n",
       "      <td>13469</td>\n",
       "      <td>Berlin</td>\n",
       "      <td>Todtnauer Zeile 3, 13469 Berlin, Germany</td>\n",
       "    </tr>\n",
       "    <tr>\n",
       "      <th>268758</th>\n",
       "      <td>Leibnizstr.</td>\n",
       "      <td>85</td>\n",
       "      <td>10625</td>\n",
       "      <td>Berlin</td>\n",
       "      <td>Leibnizstr. 85, 10625 Berlin, Germany</td>\n",
       "    </tr>\n",
       "    <tr>\n",
       "      <th>268829</th>\n",
       "      <td>Elmweg</td>\n",
       "      <td>13</td>\n",
       "      <td>13589</td>\n",
       "      <td>Berlin</td>\n",
       "      <td>Elmweg 13, 13589 Berlin, Germany</td>\n",
       "    </tr>\n",
       "  </tbody>\n",
       "</table>\n",
       "<p>8879 rows × 5 columns</p>\n",
       "</div>"
      ],
      "text/plain": [
       "                 streetPlain houseNumber  geo_plz  regio1  \\\n",
       "45         Metropolitan Park          63    13591  Berlin   \n",
       "61               Börnestraße          11    13086  Berlin   \n",
       "77      Stallschreiberstraße          27    10179  Berlin   \n",
       "86          Hallesche Straße          5a    10963  Berlin   \n",
       "87               Heidestraße          19    10557  Berlin   \n",
       "...                      ...         ...      ...     ...   \n",
       "268709        Wartburgstraße         53a    10823  Berlin   \n",
       "268733          Brüderstraße          22    13595  Berlin   \n",
       "268746       Todtnauer Zeile           3    13469  Berlin   \n",
       "268758           Leibnizstr.          85    10625  Berlin   \n",
       "268829                Elmweg          13    13589  Berlin   \n",
       "\n",
       "                                           fullAddress  \n",
       "45         Metropolitan Park 63, 13591 Berlin, Germany  \n",
       "61               Börnestraße 11, 13086 Berlin, Germany  \n",
       "77      Stallschreiberstraße 27, 10179 Berlin, Germany  \n",
       "86          Hallesche Straße 5a, 10963 Berlin, Germany  \n",
       "87               Heidestraße 19, 10557 Berlin, Germany  \n",
       "...                                                ...  \n",
       "268709       Wartburgstraße 53a, 10823 Berlin, Germany  \n",
       "268733          Brüderstraße 22, 13595 Berlin, Germany  \n",
       "268746        Todtnauer Zeile 3, 13469 Berlin, Germany  \n",
       "268758           Leibnizstr. 85, 10625 Berlin, Germany  \n",
       "268829                Elmweg 13, 13589 Berlin, Germany  \n",
       "\n",
       "[8879 rows x 5 columns]"
      ]
     },
     "execution_count": 59,
     "metadata": {},
     "output_type": "execute_result"
    }
   ],
   "source": [
    "#Second: Create the new column for Overpass API input including the country\n",
    "df_berlin_cleaned['fullAddress'] = df_berlin_cleaned.apply(\n",
    "    lambda row: f\"{row['streetPlain']} {row['houseNumber']}, {row['geo_plz']} {row['regio1']}, Germany\", axis=1)\n",
    "df_berlin_cleaned[['streetPlain','houseNumber','geo_plz', 'regio1','fullAddress']]"
   ]
  },
  {
   "cell_type": "code",
   "execution_count": 60,
   "id": "f73b5c23",
   "metadata": {},
   "outputs": [],
   "source": [
    "# Drop the specified columns\n",
    "df_berlin_cleaned.drop(columns=['houseNumber', 'streetPlain', 'geo_plz', 'regio1'], inplace=True)\n"
   ]
  },
  {
   "cell_type": "code",
   "execution_count": 61,
   "id": "765ce66d",
   "metadata": {},
   "outputs": [
    {
     "data": {
      "text/plain": [
       "Index(['serviceCharge', 'heatingType', 'newlyConst', 'balcony',\n",
       "       'telekomUploadSpeed', 'totalRent', 'yearConstructed', 'scoutId',\n",
       "       'hasKitchen', 'cellar', 'baseRent', 'livingSpace', 'condition',\n",
       "       'petsAllowed', 'lift', 'typeOfFlat', 'noRooms', 'floorNo',\n",
       "       'numberOfFloors', 'garden', 'regio3', 'description', 'facilities',\n",
       "       'heatingCosts', 'ParkSpaces', 'fullAddress'],\n",
       "      dtype='object')"
      ]
     },
     "execution_count": 61,
     "metadata": {},
     "output_type": "execute_result"
    }
   ],
   "source": [
    "#Let's check on the status of total columns\n",
    "df_berlin_cleaned.columns"
   ]
  },
  {
   "cell_type": "code",
   "execution_count": 62,
   "id": "641d5ce4",
   "metadata": {
    "scrolled": true
   },
   "outputs": [
    {
     "data": {
      "text/html": [
       "<div>\n",
       "<style scoped>\n",
       "    .dataframe tbody tr th:only-of-type {\n",
       "        vertical-align: middle;\n",
       "    }\n",
       "\n",
       "    .dataframe tbody tr th {\n",
       "        vertical-align: top;\n",
       "    }\n",
       "\n",
       "    .dataframe thead th {\n",
       "        text-align: right;\n",
       "    }\n",
       "</style>\n",
       "<table border=\"1\" class=\"dataframe\">\n",
       "  <thead>\n",
       "    <tr style=\"text-align: right;\">\n",
       "      <th></th>\n",
       "      <th>serviceCharge</th>\n",
       "      <th>heatingType</th>\n",
       "      <th>newlyConst</th>\n",
       "      <th>balcony</th>\n",
       "      <th>telekomUploadSpeed</th>\n",
       "      <th>totalRent</th>\n",
       "      <th>yearConstructed</th>\n",
       "      <th>scoutId</th>\n",
       "      <th>hasKitchen</th>\n",
       "      <th>cellar</th>\n",
       "      <th>...</th>\n",
       "      <th>noRooms</th>\n",
       "      <th>floorNo</th>\n",
       "      <th>numberOfFloors</th>\n",
       "      <th>garden</th>\n",
       "      <th>regio3</th>\n",
       "      <th>description</th>\n",
       "      <th>facilities</th>\n",
       "      <th>heatingCosts</th>\n",
       "      <th>ParkSpaces</th>\n",
       "      <th>fullAddress</th>\n",
       "    </tr>\n",
       "  </thead>\n",
       "  <tbody>\n",
       "    <tr>\n",
       "      <th>45</th>\n",
       "      <td>320.00</td>\n",
       "      <td>central_heating</td>\n",
       "      <td>False</td>\n",
       "      <td>True</td>\n",
       "      <td>32.135642</td>\n",
       "      <td>1140.00</td>\n",
       "      <td>1980.0</td>\n",
       "      <td>115671495</td>\n",
       "      <td>True</td>\n",
       "      <td>False</td>\n",
       "      <td>...</td>\n",
       "      <td>3.0</td>\n",
       "      <td>0.0</td>\n",
       "      <td>3.0</td>\n",
       "      <td>False</td>\n",
       "      <td>Staaken_Spandau</td>\n",
       "      <td>Diese attraktive EG-Wohnung kann ab sofort bez...</td>\n",
       "      <td>na</td>\n",
       "      <td>105.379839</td>\n",
       "      <td>1</td>\n",
       "      <td>Metropolitan Park 63, 13591 Berlin, Germany</td>\n",
       "    </tr>\n",
       "    <tr>\n",
       "      <th>61</th>\n",
       "      <td>79.00</td>\n",
       "      <td>central_heating</td>\n",
       "      <td>False</td>\n",
       "      <td>False</td>\n",
       "      <td>40.000000</td>\n",
       "      <td>955.00</td>\n",
       "      <td>1918.0</td>\n",
       "      <td>113359456</td>\n",
       "      <td>False</td>\n",
       "      <td>False</td>\n",
       "      <td>...</td>\n",
       "      <td>2.0</td>\n",
       "      <td>0.0</td>\n",
       "      <td>3.0</td>\n",
       "      <td>False</td>\n",
       "      <td>Weißensee_Weißensee</td>\n",
       "      <td>Suchen Sie eine 2-Zimmerwohnung in Weißensee? ...</td>\n",
       "      <td>Zusammengefasst bietet die Wohnung:\\n+ Vollstä...</td>\n",
       "      <td>68.000000</td>\n",
       "      <td>0</td>\n",
       "      <td>Börnestraße 11, 13086 Berlin, Germany</td>\n",
       "    </tr>\n",
       "    <tr>\n",
       "      <th>77</th>\n",
       "      <td>150.00</td>\n",
       "      <td>floor_heating</td>\n",
       "      <td>True</td>\n",
       "      <td>True</td>\n",
       "      <td>40.000000</td>\n",
       "      <td>1300.00</td>\n",
       "      <td>2019.0</td>\n",
       "      <td>113704695</td>\n",
       "      <td>True</td>\n",
       "      <td>True</td>\n",
       "      <td>...</td>\n",
       "      <td>2.0</td>\n",
       "      <td>3.0</td>\n",
       "      <td>5.0</td>\n",
       "      <td>False</td>\n",
       "      <td>Mitte_Mitte</td>\n",
       "      <td>Dieses luxuriöse Neubauquartier direkt am Luis...</td>\n",
       "      <td>• sehr ruhig gelegen, trotz zentraler Lage, da...</td>\n",
       "      <td>70.253226</td>\n",
       "      <td>1</td>\n",
       "      <td>Stallschreiberstraße 27, 10179 Berlin, Germany</td>\n",
       "    </tr>\n",
       "    <tr>\n",
       "      <th>86</th>\n",
       "      <td>228.78</td>\n",
       "      <td>floor_heating</td>\n",
       "      <td>False</td>\n",
       "      <td>True</td>\n",
       "      <td>32.135642</td>\n",
       "      <td>1428.78</td>\n",
       "      <td>2017.0</td>\n",
       "      <td>107589685</td>\n",
       "      <td>True</td>\n",
       "      <td>True</td>\n",
       "      <td>...</td>\n",
       "      <td>2.5</td>\n",
       "      <td>6.0</td>\n",
       "      <td>7.0</td>\n",
       "      <td>False</td>\n",
       "      <td>Kreuzberg_Kreuzberg</td>\n",
       "      <td>Bei dieser ansprechenden Immobilie handelt es ...</td>\n",
       "      <td>Balkon und 10m Terasse</td>\n",
       "      <td>87.816533</td>\n",
       "      <td>0</td>\n",
       "      <td>Hallesche Straße 5a, 10963 Berlin, Germany</td>\n",
       "    </tr>\n",
       "    <tr>\n",
       "      <th>87</th>\n",
       "      <td>147.08</td>\n",
       "      <td>district_heating</td>\n",
       "      <td>True</td>\n",
       "      <td>True</td>\n",
       "      <td>40.000000</td>\n",
       "      <td>1559.05</td>\n",
       "      <td>2019.0</td>\n",
       "      <td>114773727</td>\n",
       "      <td>True</td>\n",
       "      <td>True</td>\n",
       "      <td>...</td>\n",
       "      <td>2.0</td>\n",
       "      <td>0.0</td>\n",
       "      <td>6.0</td>\n",
       "      <td>False</td>\n",
       "      <td>Tiergarten_Tiergarten</td>\n",
       "      <td>In the \"\"Wasserstadt - Mitte\"\" you can expect ...</td>\n",
       "      <td>Your spacious ground floor apartment is equipp...</td>\n",
       "      <td>73.540000</td>\n",
       "      <td>0</td>\n",
       "      <td>Heidestraße 19, 10557 Berlin, Germany</td>\n",
       "    </tr>\n",
       "    <tr>\n",
       "      <th>126</th>\n",
       "      <td>232.00</td>\n",
       "      <td>combined_heat_and_power_plant</td>\n",
       "      <td>False</td>\n",
       "      <td>True</td>\n",
       "      <td>40.000000</td>\n",
       "      <td>1280.00</td>\n",
       "      <td>2014.0</td>\n",
       "      <td>113764604</td>\n",
       "      <td>True</td>\n",
       "      <td>True</td>\n",
       "      <td>...</td>\n",
       "      <td>3.0</td>\n",
       "      <td>1.0</td>\n",
       "      <td>2.0</td>\n",
       "      <td>False</td>\n",
       "      <td>Grünau_Köpenick</td>\n",
       "      <td>Direkt am Waldrand - Berlin Grünau\\n\\n- wunder...</td>\n",
       "      <td>Keine Wünsche offen....&amp; an alles gedacht........</td>\n",
       "      <td>120.000000</td>\n",
       "      <td>1</td>\n",
       "      <td>Waldkiefernring 5, 12527 Berlin, Germany</td>\n",
       "    </tr>\n",
       "    <tr>\n",
       "      <th>142</th>\n",
       "      <td>221.11</td>\n",
       "      <td>district_heating</td>\n",
       "      <td>False</td>\n",
       "      <td>True</td>\n",
       "      <td>40.000000</td>\n",
       "      <td>656.72</td>\n",
       "      <td>1980.0</td>\n",
       "      <td>113829068</td>\n",
       "      <td>False</td>\n",
       "      <td>False</td>\n",
       "      <td>...</td>\n",
       "      <td>3.0</td>\n",
       "      <td>16.0</td>\n",
       "      <td>4.0</td>\n",
       "      <td>False</td>\n",
       "      <td>Marzahn_Marzahn</td>\n",
       "      <td>Die Punkthochhäuser der Bärensteinstraße wurde...</td>\n",
       "      <td>Von der Wohnung aus dem 17. Stock genießen Sie...</td>\n",
       "      <td>74.620000</td>\n",
       "      <td>0</td>\n",
       "      <td>Bärensteinstr. 42, 12685 Berlin, Germany</td>\n",
       "    </tr>\n",
       "    <tr>\n",
       "      <th>155</th>\n",
       "      <td>105.00</td>\n",
       "      <td>gas_heating</td>\n",
       "      <td>False</td>\n",
       "      <td>True</td>\n",
       "      <td>40.000000</td>\n",
       "      <td>1155.00</td>\n",
       "      <td>1870.0</td>\n",
       "      <td>84867476</td>\n",
       "      <td>True</td>\n",
       "      <td>True</td>\n",
       "      <td>...</td>\n",
       "      <td>4.0</td>\n",
       "      <td>1.0</td>\n",
       "      <td>2.0</td>\n",
       "      <td>True</td>\n",
       "      <td>Köpenick_Köpenick</td>\n",
       "      <td>Das komplette Haus wurde 2003 Denkmal gerecht ...</td>\n",
       "      <td>Küche: Hochwertige Einbauküche mit Geschirrspü...</td>\n",
       "      <td>140.000000</td>\n",
       "      <td>0</td>\n",
       "      <td>Grünauer Str. 22, 12557 Berlin, Germany</td>\n",
       "    </tr>\n",
       "    <tr>\n",
       "      <th>187</th>\n",
       "      <td>162.00</td>\n",
       "      <td>district_heating</td>\n",
       "      <td>False</td>\n",
       "      <td>True</td>\n",
       "      <td>40.000000</td>\n",
       "      <td>861.00</td>\n",
       "      <td>1984.0</td>\n",
       "      <td>113297201</td>\n",
       "      <td>True</td>\n",
       "      <td>True</td>\n",
       "      <td>...</td>\n",
       "      <td>3.0</td>\n",
       "      <td>4.0</td>\n",
       "      <td>6.0</td>\n",
       "      <td>False</td>\n",
       "      <td>Neu_Hohenschönhausen_Hohenschönhausen</td>\n",
       "      <td>Die Objekte wurden in den 80er Jahren errichte...</td>\n",
       "      <td>- Balkon\\r- PVC Bodenbelag\\r- Küche mit Fenste...</td>\n",
       "      <td>80.000000</td>\n",
       "      <td>0</td>\n",
       "      <td>Falkenberger Chaussee 130, 13057 Berlin, Germany</td>\n",
       "    </tr>\n",
       "    <tr>\n",
       "      <th>194</th>\n",
       "      <td>67.15</td>\n",
       "      <td>central_heating</td>\n",
       "      <td>False</td>\n",
       "      <td>False</td>\n",
       "      <td>40.000000</td>\n",
       "      <td>415.51</td>\n",
       "      <td>1988.0</td>\n",
       "      <td>112185558</td>\n",
       "      <td>False</td>\n",
       "      <td>True</td>\n",
       "      <td>...</td>\n",
       "      <td>1.0</td>\n",
       "      <td>2.0</td>\n",
       "      <td>5.0</td>\n",
       "      <td>False</td>\n",
       "      <td>Hellersdorf_Hellersdorf</td>\n",
       "      <td>Der Siedlungshof, in dem sich Ihre neue Wohnun...</td>\n",
       "      <td>saniert:\\n* modern gefliestes Bad mit Dusche\\n...</td>\n",
       "      <td>33.580000</td>\n",
       "      <td>0</td>\n",
       "      <td>Luckenwalder Str. 94, 12629 Berlin, Germany</td>\n",
       "    </tr>\n",
       "  </tbody>\n",
       "</table>\n",
       "<p>10 rows × 26 columns</p>\n",
       "</div>"
      ],
      "text/plain": [
       "     serviceCharge                    heatingType  newlyConst  balcony  \\\n",
       "45          320.00                central_heating       False     True   \n",
       "61           79.00                central_heating       False    False   \n",
       "77          150.00                  floor_heating        True     True   \n",
       "86          228.78                  floor_heating       False     True   \n",
       "87          147.08               district_heating        True     True   \n",
       "126         232.00  combined_heat_and_power_plant       False     True   \n",
       "142         221.11               district_heating       False     True   \n",
       "155         105.00                    gas_heating       False     True   \n",
       "187         162.00               district_heating       False     True   \n",
       "194          67.15                central_heating       False    False   \n",
       "\n",
       "     telekomUploadSpeed  totalRent  yearConstructed    scoutId  hasKitchen  \\\n",
       "45            32.135642    1140.00           1980.0  115671495        True   \n",
       "61            40.000000     955.00           1918.0  113359456       False   \n",
       "77            40.000000    1300.00           2019.0  113704695        True   \n",
       "86            32.135642    1428.78           2017.0  107589685        True   \n",
       "87            40.000000    1559.05           2019.0  114773727        True   \n",
       "126           40.000000    1280.00           2014.0  113764604        True   \n",
       "142           40.000000     656.72           1980.0  113829068       False   \n",
       "155           40.000000    1155.00           1870.0   84867476        True   \n",
       "187           40.000000     861.00           1984.0  113297201        True   \n",
       "194           40.000000     415.51           1988.0  112185558       False   \n",
       "\n",
       "     cellar  ...  noRooms  floorNo numberOfFloors garden  \\\n",
       "45    False  ...      3.0      0.0            3.0  False   \n",
       "61    False  ...      2.0      0.0            3.0  False   \n",
       "77     True  ...      2.0      3.0            5.0  False   \n",
       "86     True  ...      2.5      6.0            7.0  False   \n",
       "87     True  ...      2.0      0.0            6.0  False   \n",
       "126    True  ...      3.0      1.0            2.0  False   \n",
       "142   False  ...      3.0     16.0            4.0  False   \n",
       "155    True  ...      4.0      1.0            2.0   True   \n",
       "187    True  ...      3.0      4.0            6.0  False   \n",
       "194    True  ...      1.0      2.0            5.0  False   \n",
       "\n",
       "                                    regio3  \\\n",
       "45                         Staaken_Spandau   \n",
       "61                     Weißensee_Weißensee   \n",
       "77                             Mitte_Mitte   \n",
       "86                     Kreuzberg_Kreuzberg   \n",
       "87                   Tiergarten_Tiergarten   \n",
       "126                        Grünau_Köpenick   \n",
       "142                        Marzahn_Marzahn   \n",
       "155                      Köpenick_Köpenick   \n",
       "187  Neu_Hohenschönhausen_Hohenschönhausen   \n",
       "194                Hellersdorf_Hellersdorf   \n",
       "\n",
       "                                           description  \\\n",
       "45   Diese attraktive EG-Wohnung kann ab sofort bez...   \n",
       "61   Suchen Sie eine 2-Zimmerwohnung in Weißensee? ...   \n",
       "77   Dieses luxuriöse Neubauquartier direkt am Luis...   \n",
       "86   Bei dieser ansprechenden Immobilie handelt es ...   \n",
       "87   In the \"\"Wasserstadt - Mitte\"\" you can expect ...   \n",
       "126  Direkt am Waldrand - Berlin Grünau\\n\\n- wunder...   \n",
       "142  Die Punkthochhäuser der Bärensteinstraße wurde...   \n",
       "155  Das komplette Haus wurde 2003 Denkmal gerecht ...   \n",
       "187  Die Objekte wurden in den 80er Jahren errichte...   \n",
       "194  Der Siedlungshof, in dem sich Ihre neue Wohnun...   \n",
       "\n",
       "                                            facilities  heatingCosts  \\\n",
       "45                                                  na    105.379839   \n",
       "61   Zusammengefasst bietet die Wohnung:\\n+ Vollstä...     68.000000   \n",
       "77   • sehr ruhig gelegen, trotz zentraler Lage, da...     70.253226   \n",
       "86                              Balkon und 10m Terasse     87.816533   \n",
       "87   Your spacious ground floor apartment is equipp...     73.540000   \n",
       "126  Keine Wünsche offen....& an alles gedacht........    120.000000   \n",
       "142  Von der Wohnung aus dem 17. Stock genießen Sie...     74.620000   \n",
       "155  Küche: Hochwertige Einbauküche mit Geschirrspü...    140.000000   \n",
       "187  - Balkon\\r- PVC Bodenbelag\\r- Küche mit Fenste...     80.000000   \n",
       "194  saniert:\\n* modern gefliestes Bad mit Dusche\\n...     33.580000   \n",
       "\n",
       "     ParkSpaces                                       fullAddress  \n",
       "45            1       Metropolitan Park 63, 13591 Berlin, Germany  \n",
       "61            0             Börnestraße 11, 13086 Berlin, Germany  \n",
       "77            1    Stallschreiberstraße 27, 10179 Berlin, Germany  \n",
       "86            0        Hallesche Straße 5a, 10963 Berlin, Germany  \n",
       "87            0             Heidestraße 19, 10557 Berlin, Germany  \n",
       "126           1          Waldkiefernring 5, 12527 Berlin, Germany  \n",
       "142           0          Bärensteinstr. 42, 12685 Berlin, Germany  \n",
       "155           0           Grünauer Str. 22, 12557 Berlin, Germany  \n",
       "187           0  Falkenberger Chaussee 130, 13057 Berlin, Germany  \n",
       "194           0       Luckenwalder Str. 94, 12629 Berlin, Germany  \n",
       "\n",
       "[10 rows x 26 columns]"
      ]
     },
     "execution_count": 62,
     "metadata": {},
     "output_type": "execute_result"
    }
   ],
   "source": [
    "df_berlin_cleaned.head(10)"
   ]
  },
  {
   "cell_type": "code",
   "execution_count": 63,
   "id": "44571980",
   "metadata": {},
   "outputs": [],
   "source": [
    "df_to_save = df_berlin_cleaned.drop(['description', 'facilities'], axis=1)"
   ]
  },
  {
   "cell_type": "code",
   "execution_count": 64,
   "id": "489a6478",
   "metadata": {},
   "outputs": [],
   "source": [
    "df_to_save.to_csv('berlin_cleaned.csv')"
   ]
  },
  {
   "cell_type": "code",
   "execution_count": 65,
   "id": "82178b1d",
   "metadata": {},
   "outputs": [
    {
     "data": {
      "text/plain": [
       "(8879, 25)"
      ]
     },
     "execution_count": 65,
     "metadata": {},
     "output_type": "execute_result"
    }
   ],
   "source": [
    "df_test = pd.read_csv('berlin_cleaned.csv')\n",
    "df_test.shape"
   ]
  },
  {
   "cell_type": "code",
   "execution_count": null,
   "id": "16874918",
   "metadata": {},
   "outputs": [],
   "source": []
  },
  {
   "cell_type": "code",
   "execution_count": null,
   "id": "5e5272e0",
   "metadata": {},
   "outputs": [],
   "source": []
  }
 ],
 "metadata": {
  "kernelspec": {
   "display_name": "Python 3 (ipykernel)",
   "language": "python",
   "name": "python3"
  },
  "language_info": {
   "codemirror_mode": {
    "name": "ipython",
    "version": 3
   },
   "file_extension": ".py",
   "mimetype": "text/x-python",
   "name": "python",
   "nbconvert_exporter": "python",
   "pygments_lexer": "ipython3",
   "version": "3.10.6"
  },
  "toc": {
   "base_numbering": 1,
   "nav_menu": {},
   "number_sections": true,
   "sideBar": true,
   "skip_h1_title": false,
   "title_cell": "Table of Contents",
   "title_sidebar": "Contents",
   "toc_cell": false,
   "toc_position": {},
   "toc_section_display": true,
   "toc_window_display": false
  }
 },
 "nbformat": 4,
 "nbformat_minor": 5
}
